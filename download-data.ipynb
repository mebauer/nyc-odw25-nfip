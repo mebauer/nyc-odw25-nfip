{
 "cells": [
  {
   "cell_type": "markdown",
   "id": "0b49f6ee",
   "metadata": {},
   "source": [
    "# Download NFIP Redacted Claims and Policies Data for New York City"
   ]
  },
  {
   "cell_type": "markdown",
   "id": "e5981873",
   "metadata": {},
   "source": [
    "# Objective\n",
    "\n",
    "This notebook demonstrates the following:\n",
    "\n",
    "- Downloading the [NFIP Redacted Claims](https://www.fema.gov/openfema-data-page/fima-nfip-redacted-claims-v2) and [Redacted Policies](https://www.fema.gov/openfema-data-page/fima-nfip-redacted-policies-v2) data from [OpenFEMA](https://www.fema.gov/about/reports-and-data/openfema)\n",
    "- Learn how to use the [OpenFEMA API](https://www.fema.gov/about/openfema/api)\n",
    "- Working with [Parquet](https://parquet.apache.org/) files using [DuckDB](https://duckdb.org/)\n",
    "- Conducting basic exploratory data analysis (EDA) with DuckDB\n",
    "- Filtering and writing out records specific to New York City\n",
    "\n",
    "While the [OpenFEMA API](https://www.fema.gov/about/openfema/api) offers a method to [page through large datasets](https://www.fema.gov/about/openfema/working-with-large-data-sets) (e.g., [NFIP Redacted Policies](https://www.fema.gov/openfema-data-page/fima-nfip-redacted-policies-v2)), which is ideal for cases where you don't want to download the entire dataset locally, the size of the NFIP Redacted Claims dataset allows us to download the full Parquet file. For this analysis, we use DuckDB to efficiently filter and write out only the records relevant to New York City, saving both Parquet and CSV formats.\n",
    "\n",
    "Note: Due to GitHub's file size limitations, the full NFIP Redacted Claims and Policies datasets are excluded from this repository."
   ]
  },
  {
   "cell_type": "code",
   "execution_count": 1,
   "id": "05d1f78f",
   "metadata": {},
   "outputs": [],
   "source": [
    "import csv\n",
    "import time\n",
    "from datetime import datetime\n",
    "import logging\n",
    "\n",
    "import requests\n",
    "from bs4 import BeautifulSoup\n",
    "import duckdb\n",
    "\n",
    "import nfip_download"
   ]
  },
  {
   "cell_type": "code",
   "execution_count": 2,
   "id": "d0112939",
   "metadata": {},
   "outputs": [
    {
     "name": "stdout",
     "output_type": "stream",
     "text": [
      "Python implementation: CPython\n",
      "Python version       : 3.11.0\n",
      "IPython version      : 8.6.0\n",
      "\n",
      "requests: 2.28.1\n",
      "duckdb  : 1.0.0\n",
      "\n"
     ]
    }
   ],
   "source": [
    "# reproducibility\n",
    "%reload_ext watermark\n",
    "%watermark -v -p requests,duckdb"
   ]
  },
  {
   "cell_type": "code",
   "execution_count": 3,
   "id": "642b1e30",
   "metadata": {},
   "outputs": [
    {
     "name": "stdout",
     "output_type": "stream",
     "text": [
      "The data was retrieved on 2025-03-24.\n"
     ]
    }
   ],
   "source": [
    "# data retrieved\n",
    "current_date = datetime.now()\n",
    "print(f\"The data was retrieved on {current_date.strftime('%Y-%m-%d')}.\")"
   ]
  },
  {
   "cell_type": "markdown",
   "id": "758ef554",
   "metadata": {},
   "source": [
    "# Getting Started: OpenFEMA\n",
    "- [OpenFEMA](https://www.fema.gov/about/reports-and-data/openfema): The public’s resource for FEMA program data. Promoting a culture of Open Government and increasing transparency, participation, and collaboration among the Whole Community in support of FEMA's mission to help people before, during, and after disasters.\n",
    "\n",
    "\n",
    "- [OpenFEMA Developer Resources](https://www.fema.gov/about/openfema/developer-resources): Welcome to the OpenFEMA Developer Resources page, devoted to providing additional development information regarding our Application Programming Interface (API) for use in your applications and mashups.  The API is free of charge and does not currently have user registration requirements.\n",
    "\n",
    "\n",
    "- [OpenFEMA API Documentation](https://www.fema.gov/about/openfema/api): As part of the OpenFEMA initiative, FEMA is providing read-only API based access to datasets (Entities). The data is exposed using a RESTful interface that uses query string parameters to manage the query. Use of the service is free and does not require a subscription or API key.\n",
    "\n",
    "\n",
    "- [OpenFEMA Terms and Conditions](https://www.fema.gov/about/openfema/terms-conditions): Respect the OpenFEMA API and content on this website. Use the Site in a lawful manner. Do not modify the Site or attempt to use it to publish or transmit malicious software or content. FEMA shall not be liable for any damages resulting from the use of this website, API services, or content. Do not attempt to reidentify the individuals whose data may be aggregated. We may suspend your access to this website if we feel you have not complied with these terms and conditions.."
   ]
  },
  {
   "cell_type": "markdown",
   "id": "152772a2",
   "metadata": {},
   "source": [
    "# OpenFEMA Dataset: FIMA NFIP Redacted Claims - v2\n",
    "\n",
    "[OpenFEMA Dataset: FIMA NFIP Redacted Claims - v2](https://www.fema.gov/openfema-data-page/fima-nfip-redacted-claims-v2): Congress passed the National Flood Insurance Act (NFIA), 42 U.S.C. 4001 in 1968, creating the National Flood Insurance Program (NFIP) in order to reduce future flood losses through flood hazard identification, floodplain management, and providing insurance protection. This dataset provides details on NFIP claims transactions. It is derived from the NFIP system of record, staged in the NFIP reporting platform and redacted to protect policy holder personally identifiable information."
   ]
  },
  {
   "cell_type": "markdown",
   "id": "0b960b1c",
   "metadata": {},
   "source": [
    "![dataset-page](images/dataset-page.png)\n",
    "\n",
    "Screenshot of NFIP Redacted Claims dataset page."
   ]
  },
  {
   "cell_type": "markdown",
   "id": "36404736",
   "metadata": {},
   "source": [
    "# Download Data Dictionary"
   ]
  },
  {
   "cell_type": "code",
   "execution_count": 4,
   "id": "52065e16",
   "metadata": {},
   "outputs": [
    {
     "name": "stdout",
     "output_type": "stream",
     "text": [
      "data dictionary has been written.\n"
     ]
    }
   ],
   "source": [
    "# URL of the page containing the table\n",
    "url = 'https://www.fema.gov/openfema-data-page/fima-nfip-redacted-claims-v2'\n",
    "\n",
    "# Request the page content\n",
    "response = requests.get(url)\n",
    "soup = BeautifulSoup(response.content, 'html.parser')\n",
    "\n",
    "# Find the third table with the 'usa-table' class\n",
    "table = soup.find_all('table', class_='usa-table')[2]  # index 2 for the third table\n",
    "\n",
    "# Extract table headers\n",
    "headers = [header.text.strip() for header in table.find_all('th')]\n",
    "\n",
    "# Extract table rows\n",
    "rows = []\n",
    "for row in table.find_all('tr')[1:]:  # Skip the header row\n",
    "    cells = row.find_all('td')\n",
    "    if cells:\n",
    "        row_data = [cell.text.strip() for cell in cells]\n",
    "        rows.append(row_data)\n",
    "\n",
    "# Write to CSV file\n",
    "with open('data-dictionary.csv', 'w', newline='', encoding='utf-8') as file:\n",
    "    writer = csv.writer(file)\n",
    "    writer.writerow(headers)  # Write header\n",
    "    writer.writerows(rows)    # Write data rows\n",
    "\n",
    "print(\"data dictionary has been written.\")"
   ]
  },
  {
   "cell_type": "markdown",
   "id": "73cff37c",
   "metadata": {},
   "source": [
    "# Download Claims and Policies Data for New York City\n",
    "I built a script that utilizes the OpenFEMA API to programmatically export NFIP Claims and Policies data by County FIPS code."
   ]
  },
  {
   "cell_type": "code",
   "execution_count": 5,
   "id": "4751a85f",
   "metadata": {},
   "outputs": [
    {
     "name": "stderr",
     "output_type": "stream",
     "text": [
      "2025-03-24 22:06:51,578 - INFO - Starting to download claims data for county FIPS: 36005\n",
      "2025-03-24 22:06:54,236 - INFO - Chunk is less than 10,000 rows returned, finishing download.\n",
      "2025-03-24 22:06:54,237 - INFO - Download completed. Total rows fetched: 1942\n",
      "2025-03-24 22:06:54,480 - INFO - Data saved to data/claims-36005.json\n",
      "2025-03-24 22:06:55,484 - INFO - Starting to download claims data for county FIPS: 36047\n",
      "2025-03-24 22:06:59,533 - INFO - Chunk is less than 10,000 rows returned, finishing download.\n",
      "2025-03-24 22:06:59,533 - INFO - Download completed. Total rows fetched: 6264\n",
      "2025-03-24 22:07:00,243 - INFO - Data saved to data/claims-36047.json\n",
      "2025-03-24 22:07:01,254 - INFO - Starting to download claims data for county FIPS: 36061\n",
      "2025-03-24 22:07:03,742 - INFO - Chunk is less than 10,000 rows returned, finishing download.\n",
      "2025-03-24 22:07:03,742 - INFO - Download completed. Total rows fetched: 1485\n",
      "2025-03-24 22:07:03,909 - INFO - Data saved to data/claims-36061.json\n",
      "2025-03-24 22:07:04,914 - INFO - Starting to download claims data for county FIPS: 36081\n",
      "2025-03-24 22:07:18,553 - INFO - Chunk is less than 10,000 rows returned, finishing download.\n",
      "2025-03-24 22:07:18,554 - INFO - Download completed. Total rows fetched: 14873\n",
      "2025-03-24 22:07:20,434 - INFO - Data saved to data/claims-36081.json\n",
      "2025-03-24 22:07:21,449 - INFO - Starting to download claims data for county FIPS: 36085\n",
      "2025-03-24 22:07:36,452 - INFO - Chunk is less than 10,000 rows returned, finishing download.\n",
      "2025-03-24 22:07:36,453 - INFO - Download completed. Total rows fetched: 19414\n",
      "2025-03-24 22:07:38,747 - INFO - Data saved to data/claims-36085.json\n",
      "2025-03-24 22:07:39,769 - INFO - Starting to download policies data for county FIPS: 36005\n",
      "2025-03-24 22:08:10,837 - INFO - Chunk is less than 10,000 rows returned, finishing download.\n",
      "2025-03-24 22:08:10,838 - INFO - Download completed. Total rows fetched: 35228\n",
      "2025-03-24 22:08:15,668 - INFO - Data saved to data/policies-36005.json\n",
      "2025-03-24 22:08:16,712 - INFO - Starting to download policies data for county FIPS: 36047\n",
      "2025-03-24 22:10:44,300 - INFO - Chunk is less than 10,000 rows returned, finishing download.\n",
      "2025-03-24 22:10:44,301 - INFO - Download completed. Total rows fetched: 151256\n",
      "2025-03-24 22:11:04,650 - INFO - Data saved to data/policies-36047.json\n",
      "2025-03-24 22:11:05,865 - INFO - Starting to download policies data for county FIPS: 36061\n",
      "2025-03-24 22:11:38,356 - INFO - Chunk is less than 10,000 rows returned, finishing download.\n",
      "2025-03-24 22:11:38,357 - INFO - Download completed. Total rows fetched: 37249\n",
      "2025-03-24 22:11:44,017 - INFO - Data saved to data/policies-36061.json\n",
      "2025-03-24 22:11:45,096 - INFO - Starting to download policies data for county FIPS: 36081\n",
      "2025-03-24 22:15:17,963 - INFO - Chunk is less than 10,000 rows returned, finishing download.\n",
      "2025-03-24 22:15:17,963 - INFO - Download completed. Total rows fetched: 220427\n",
      "2025-03-24 22:15:46,945 - INFO - Data saved to data/policies-36081.json\n",
      "2025-03-24 22:15:48,305 - INFO - Starting to download policies data for county FIPS: 36085\n",
      "2025-03-24 22:17:27,199 - INFO - Chunk is less than 10,000 rows returned, finishing download.\n",
      "2025-03-24 22:17:27,199 - INFO - Download completed. Total rows fetched: 104107\n",
      "2025-03-24 22:17:40,462 - INFO - Data saved to data/policies-36085.json\n"
     ]
    }
   ],
   "source": [
    "datasets = ['claims', 'policies']\n",
    "\n",
    "county_fips = [\n",
    "    '36005',\n",
    "    '36047',\n",
    "    '36061',\n",
    "    '36081',\n",
    "    '36085'\n",
    "]\n",
    "\n",
    "for dataset in datasets:\n",
    "    for county in county_fips:\n",
    "        nfip_download.download_data(dataset, county)\n",
    "        time.sleep(1)"
   ]
  },
  {
   "cell_type": "code",
   "execution_count": 6,
   "id": "5bc4a8d7",
   "metadata": {},
   "outputs": [
    {
     "name": "stdout",
     "output_type": "stream",
     "text": [
      "614M\tdata/policies-36081.json\r\n",
      "421M\tdata/policies-36047.json\r\n",
      "290M\tdata/policies-36085.json\r\n",
      "104M\tdata/policies-36061.json\r\n",
      " 98M\tdata/policies-36005.json\r\n",
      " 48M\tdata/claims-36085.json\r\n",
      " 37M\tdata/claims-36081.json\r\n",
      " 16M\tdata/claims-36047.json\r\n",
      "4.8M\tdata/claims-36005.json\r\n",
      "3.7M\tdata/claims-36061.json\r\n"
     ]
    }
   ],
   "source": [
    "# preview size of file\n",
    "!du -sh data/* | sort -rh"
   ]
  },
  {
   "cell_type": "markdown",
   "id": "bb6576cb",
   "metadata": {},
   "source": [
    "# Create Claims Table using DuckDB"
   ]
  },
  {
   "cell_type": "code",
   "execution_count": 7,
   "id": "598ea010",
   "metadata": {},
   "outputs": [
    {
     "data": {
      "text/plain": [
       "┌──────────────────────┬──────────────────────┬──────────────────────┬───┬──────────┬───────────┬──────────────────────┐\n",
       "│ agricultureStructu…  │       asOfDate       │ basementEnclosureC…  │ … │ latitude │ longitude │          id          │\n",
       "│       boolean        │       varchar        │        int64         │   │  double  │  double   │         uuid         │\n",
       "├──────────────────────┼──────────────────────┼──────────────────────┼───┼──────────┼───────────┼──────────────────────┤\n",
       "│ false                │ 2020-09-10T19:02:5…  │                    1 │ … │     40.8 │     -73.8 │ 80349555-9429-4ec2…  │\n",
       "│ false                │ 2024-09-23T14:02:0…  │                    1 │ … │     40.9 │     -73.8 │ e1d4d5a4-c438-4ef1…  │\n",
       "│ false                │ 2020-01-22T16:55:5…  │                    2 │ … │     40.8 │     -73.9 │ c9b02a95-815a-4c69…  │\n",
       "│ false                │ 2020-01-22T16:55:5…  │                    2 │ … │     40.8 │     -73.9 │ c43c75c0-9add-4c96…  │\n",
       "│ false                │ 2020-01-22T16:55:5…  │                 NULL │ … │     40.8 │     -73.8 │ 4fd50779-17b7-4461…  │\n",
       "├──────────────────────┴──────────────────────┴──────────────────────┴───┴──────────┴───────────┴──────────────────────┤\n",
       "│ 5 rows                                                                                          73 columns (6 shown) │\n",
       "└──────────────────────────────────────────────────────────────────────────────────────────────────────────────────────┘"
      ]
     },
     "execution_count": 7,
     "metadata": {},
     "output_type": "execute_result"
    }
   ],
   "source": [
    "# create a DuckDB database instance\n",
    "con = duckdb.connect()\n",
    "\n",
    "# create table claims of dataset\n",
    "con.execute(\"\"\"\n",
    "    CREATE TABLE claims AS\n",
    "        FROM read_json('data/claims-*.json')\n",
    "\"\"\")\n",
    "\n",
    "# sanity check\n",
    "sql = \"\"\"\n",
    "    SELECT *\n",
    "    FROM claims\n",
    "    LIMIT 5\n",
    "\"\"\"\n",
    "\n",
    "con.sql(sql)"
   ]
  },
  {
   "cell_type": "code",
   "execution_count": 8,
   "id": "e10ae579",
   "metadata": {},
   "outputs": [
    {
     "data": {
      "text/plain": [
       "┌───────┐\n",
       "│ count │\n",
       "│ int64 │\n",
       "├───────┤\n",
       "│ 43978 │\n",
       "└───────┘"
      ]
     },
     "execution_count": 8,
     "metadata": {},
     "output_type": "execute_result"
    }
   ],
   "source": [
    "# sanity check\n",
    "sql = \"\"\"\n",
    "    SELECT COUNT(*) AS count\n",
    "    FROM claims\n",
    "\"\"\"\n",
    "\n",
    "con.sql(sql)"
   ]
  },
  {
   "cell_type": "code",
   "execution_count": 9,
   "id": "559c80ff",
   "metadata": {},
   "outputs": [
    {
     "data": {
      "text/plain": [
       "┌───────────────┐\n",
       "│ count_columns │\n",
       "│     int64     │\n",
       "├───────────────┤\n",
       "│            73 │\n",
       "└───────────────┘"
      ]
     },
     "execution_count": 9,
     "metadata": {},
     "output_type": "execute_result"
    }
   ],
   "source": [
    "# sanity check\n",
    "sql = \"\"\"\n",
    "    SELECT\n",
    "        COUNT(column_name) AS count_columns\n",
    "    FROM\n",
    "        (DESCRIBE FROM claims)\n",
    "\"\"\"\n",
    "\n",
    "con.sql(sql)"
   ]
  },
  {
   "cell_type": "code",
   "execution_count": 10,
   "id": "4d445243",
   "metadata": {},
   "outputs": [
    {
     "data": {
      "text/plain": [
       "┌──────────────────────────┐\n",
       "│         asOfDate         │\n",
       "│         varchar          │\n",
       "├──────────────────────────┤\n",
       "│ 2025-03-10T15:48:30.729Z │\n",
       "└──────────────────────────┘"
      ]
     },
     "execution_count": 10,
     "metadata": {},
     "output_type": "execute_result"
    }
   ],
   "source": [
    "# sanity check\n",
    "sql = \"\"\"\n",
    "    SELECT\n",
    "        asOfDate\n",
    "    FROM\n",
    "        claims\n",
    "    ORDER BY\n",
    "        asOfDate DESC\n",
    "    LIMIT 1\n",
    "\"\"\"\n",
    "\n",
    "con.sql(sql)"
   ]
  },
  {
   "cell_type": "code",
   "execution_count": 11,
   "id": "4043bbfe",
   "metadata": {},
   "outputs": [
    {
     "name": "stdout",
     "output_type": "stream",
     "text": [
      "┌────────────────────────────────────────────┬─────────────┐\n",
      "│                column_name                 │ column_type │\n",
      "│                  varchar                   │   varchar   │\n",
      "├────────────────────────────────────────────┼─────────────┤\n",
      "│ agricultureStructureIndicator              │ BOOLEAN     │\n",
      "│ asOfDate                                   │ VARCHAR     │\n",
      "│ basementEnclosureCrawlspaceType            │ BIGINT      │\n",
      "│ policyCount                                │ BIGINT      │\n",
      "│ crsClassificationCode                      │ BIGINT      │\n",
      "│ dateOfLoss                                 │ VARCHAR     │\n",
      "│ elevatedBuildingIndicator                  │ BOOLEAN     │\n",
      "│ elevationCertificateIndicator              │ VARCHAR     │\n",
      "│ elevationDifference                        │ BIGINT      │\n",
      "│ baseFloodElevation                         │ DOUBLE      │\n",
      "│ ratedFloodZone                             │ VARCHAR     │\n",
      "│ houseWorship                               │ BOOLEAN     │\n",
      "│ locationOfContents                         │ BIGINT      │\n",
      "│ lowestAdjacentGrade                        │ DOUBLE      │\n",
      "│ lowestFloorElevation                       │ DOUBLE      │\n",
      "│ numberOfFloorsInTheInsuredBuilding         │ BIGINT      │\n",
      "│ nonProfitIndicator                         │ BOOLEAN     │\n",
      "│ obstructionType                            │ BIGINT      │\n",
      "│ occupancyType                              │ BIGINT      │\n",
      "│ originalConstructionDate                   │ VARCHAR     │\n",
      "│ originalNBDate                             │ VARCHAR     │\n",
      "│ amountPaidOnBuildingClaim                  │ DOUBLE      │\n",
      "│ amountPaidOnContentsClaim                  │ DOUBLE      │\n",
      "│ amountPaidOnIncreasedCostOfComplianceClaim │ DOUBLE      │\n",
      "│ postFIRMConstructionIndicator              │ BOOLEAN     │\n",
      "│ rateMethod                                 │ VARCHAR     │\n",
      "│ smallBusinessIndicatorBuilding             │ BOOLEAN     │\n",
      "│ totalBuildingInsuranceCoverage             │ BIGINT      │\n",
      "│ totalContentsInsuranceCoverage             │ BIGINT      │\n",
      "│ yearOfLoss                                 │ BIGINT      │\n",
      "│ primaryResidenceIndicator                  │ BOOLEAN     │\n",
      "│ buildingDamageAmount                       │ BIGINT      │\n",
      "│ buildingDeductibleCode                     │ VARCHAR     │\n",
      "│ netBuildingPaymentAmount                   │ DOUBLE      │\n",
      "│ buildingPropertyValue                      │ BIGINT      │\n",
      "│ causeOfDamage                              │ VARCHAR     │\n",
      "│ condominiumCoverageTypeCode                │ VARCHAR     │\n",
      "│ contentsDamageAmount                       │ BIGINT      │\n",
      "│ contentsDeductibleCode                     │ VARCHAR     │\n",
      "│ netContentsPaymentAmount                   │ DOUBLE      │\n",
      "│ contentsPropertyValue                      │ BIGINT      │\n",
      "│ disasterAssistanceCoverageRequired         │ BIGINT      │\n",
      "│ eventDesignationNumber                     │ VARCHAR     │\n",
      "│ ficoNumber                                 │ BIGINT      │\n",
      "│ floodCharacteristicsIndicator              │ BIGINT      │\n",
      "│ floodWaterDuration                         │ BIGINT      │\n",
      "│ floodproofedIndicator                      │ BOOLEAN     │\n",
      "│ floodEvent                                 │ VARCHAR     │\n",
      "│ iccCoverage                                │ BIGINT      │\n",
      "│ netIccPaymentAmount                        │ DOUBLE      │\n",
      "│ nfipRatedCommunityNumber                   │ VARCHAR     │\n",
      "│ nfipCommunityNumberCurrent                 │ VARCHAR     │\n",
      "│ nfipCommunityName                          │ VARCHAR     │\n",
      "│ nonPaymentReasonContents                   │ VARCHAR     │\n",
      "│ nonPaymentReasonBuilding                   │ VARCHAR     │\n",
      "│ numberOfUnits                              │ BIGINT      │\n",
      "│ buildingReplacementCost                    │ BIGINT      │\n",
      "│ contentsReplacementCost                    │ BIGINT      │\n",
      "│ replacementCostBasis                       │ VARCHAR     │\n",
      "│ stateOwnedIndicator                        │ BOOLEAN     │\n",
      "│ waterDepth                                 │ BIGINT      │\n",
      "│ floodZoneCurrent                           │ VARCHAR     │\n",
      "│ buildingDescriptionCode                    │ BIGINT      │\n",
      "│ rentalPropertyIndicator                    │ BOOLEAN     │\n",
      "│ state                                      │ VARCHAR     │\n",
      "│ reportedCity                               │ VARCHAR     │\n",
      "│ reportedZipCode                            │ VARCHAR     │\n",
      "│ countyCode                                 │ VARCHAR     │\n",
      "│ censusTract                                │ VARCHAR     │\n",
      "│ censusBlockGroupFips                       │ VARCHAR     │\n",
      "│ latitude                                   │ DOUBLE      │\n",
      "│ longitude                                  │ DOUBLE      │\n",
      "│ id                                         │ UUID        │\n",
      "├────────────────────────────────────────────┴─────────────┤\n",
      "│ 73 rows                                        2 columns │\n",
      "└──────────────────────────────────────────────────────────┘\n",
      "\n"
     ]
    }
   ],
   "source": [
    "# sanity check\n",
    "sql = \"\"\"\n",
    "    SELECT\n",
    "        column_name,\n",
    "        column_type\n",
    "    FROM\n",
    "        (DESCRIBE claims)\n",
    "\"\"\"\n",
    "\n",
    "con.sql(sql).show(max_rows=80)"
   ]
  },
  {
   "cell_type": "code",
   "execution_count": 12,
   "id": "611be770",
   "metadata": {},
   "outputs": [
    {
     "name": "stdout",
     "output_type": "stream",
     "text": [
      "┌────────────────────────────────────────────┬─────────────────┐\n",
      "│                column_name                 │ null_percentage │\n",
      "│                  varchar                   │  decimal(9,2)   │\n",
      "├────────────────────────────────────────────┼─────────────────┤\n",
      "│ crsClassificationCode                      │          100.00 │\n",
      "│ floodCharacteristicsIndicator              │           99.70 │\n",
      "│ eventDesignationNumber                     │           97.31 │\n",
      "│ lowestAdjacentGrade                        │           87.20 │\n",
      "│ lowestFloorElevation                       │           86.93 │\n",
      "│ baseFloodElevation                         │           86.62 │\n",
      "│ elevationDifference                        │           86.50 │\n",
      "│ nonPaymentReasonBuilding                   │           80.12 │\n",
      "│ nonPaymentReasonContents                   │           74.26 │\n",
      "│ nfipCommunityNumberCurrent                 │           73.34 │\n",
      "│ floodZoneCurrent                           │           73.34 │\n",
      "│ nfipCommunityName                          │           72.57 │\n",
      "│ elevationCertificateIndicator              │           70.74 │\n",
      "│ buildingDescriptionCode                    │           60.24 │\n",
      "│ contentsDamageAmount                       │           55.10 │\n",
      "│ contentsPropertyValue                      │           55.10 │\n",
      "│ contentsReplacementCost                    │           55.10 │\n",
      "│ obstructionType                            │           53.49 │\n",
      "│ iccCoverage                                │           45.78 │\n",
      "│ basementEnclosureCrawlspaceType            │           42.92 │\n",
      "│ contentsDeductibleCode                     │           41.20 │\n",
      "│ ficoNumber                                 │           36.62 │\n",
      "│ locationOfContents                         │           36.07 │\n",
      "│ ratedFloodZone                             │           33.85 │\n",
      "│ buildingDeductibleCode                     │           33.08 │\n",
      "│ floodEvent                                 │           32.89 │\n",
      "│ buildingDamageAmount                       │           21.17 │\n",
      "│ buildingPropertyValue                      │           21.17 │\n",
      "│ buildingReplacementCost                    │           21.17 │\n",
      "│ amountPaidOnBuildingClaim                  │           16.06 │\n",
      "│ amountPaidOnContentsClaim                  │           16.06 │\n",
      "│ amountPaidOnIncreasedCostOfComplianceClaim │           16.06 │\n",
      "│ disasterAssistanceCoverageRequired         │           12.87 │\n",
      "│ replacementCostBasis                       │            8.21 │\n",
      "│ rateMethod                                 │            8.20 │\n",
      "│ floodWaterDuration                         │            5.89 │\n",
      "│ waterDepth                                 │            5.04 │\n",
      "│ condominiumCoverageTypeCode                │            4.92 │\n",
      "│ censusTract                                │            0.88 │\n",
      "│ censusBlockGroupFips                       │            0.88 │\n",
      "│ causeOfDamage                              │            0.56 │\n",
      "│ numberOfFloorsInTheInsuredBuilding         │            0.18 │\n",
      "│ occupancyType                              │            0.06 │\n",
      "│ numberOfUnits                              │            0.04 │\n",
      "│ originalConstructionDate                   │            0.01 │\n",
      "├────────────────────────────────────────────┴─────────────────┤\n",
      "│ 45 rows                                            2 columns │\n",
      "└──────────────────────────────────────────────────────────────┘\n",
      "\n"
     ]
    }
   ],
   "source": [
    "# sanity check\n",
    "sql = \"\"\"\n",
    "    SELECT\n",
    "        column_name,\n",
    "        null_percentage\n",
    "    FROM\n",
    "        (SUMMARIZE FROM claims)\n",
    "    WHERE\n",
    "        null_percentage > 0\n",
    "    ORDER BY\n",
    "        null_percentage DESC\n",
    "\"\"\"\n",
    "\n",
    "con.sql(sql).show(max_rows=80)"
   ]
  },
  {
   "cell_type": "markdown",
   "id": "933045ff",
   "metadata": {},
   "source": [
    "# Write Out Files as Parquet"
   ]
  },
  {
   "cell_type": "code",
   "execution_count": 13,
   "id": "abc588b3",
   "metadata": {},
   "outputs": [],
   "source": [
    "# copy to a Parquet file\n",
    "sql = \"\"\"\n",
    "    COPY (SELECT * FROM claims)\n",
    "    TO 'data/nfip-claims-nyc.parquet'\n",
    "\"\"\"\n",
    "\n",
    "con.sql(sql)      "
   ]
  },
  {
   "cell_type": "code",
   "execution_count": 14,
   "id": "40d360f1",
   "metadata": {},
   "outputs": [
    {
     "name": "stdout",
     "output_type": "stream",
     "text": [
      "claims-36005.json        claims-36085.json        policies-36061.json\r\n",
      "claims-36047.json        nfip-claims-nyc.parquet  policies-36081.json\r\n",
      "claims-36061.json        policies-36005.json      policies-36085.json\r\n",
      "claims-36081.json        policies-36047.json\r\n"
     ]
    }
   ],
   "source": [
    "# confirm download\n",
    "%ls data/"
   ]
  },
  {
   "cell_type": "code",
   "execution_count": 15,
   "id": "ecbbed93",
   "metadata": {},
   "outputs": [
    {
     "name": "stdout",
     "output_type": "stream",
     "text": [
      "614M\tdata/policies-36081.json\r\n",
      "421M\tdata/policies-36047.json\r\n",
      "290M\tdata/policies-36085.json\r\n",
      "104M\tdata/policies-36061.json\r\n",
      " 98M\tdata/policies-36005.json\r\n",
      " 48M\tdata/claims-36085.json\r\n",
      " 37M\tdata/claims-36081.json\r\n",
      " 16M\tdata/claims-36047.json\r\n",
      "4.8M\tdata/claims-36005.json\r\n",
      "3.7M\tdata/claims-36061.json\r\n",
      "3.5M\tdata/nfip-claims-nyc.parquet\r\n"
     ]
    }
   ],
   "source": [
    "# preview size of file\n",
    "!du -sh data/* | sort -rh"
   ]
  },
  {
   "cell_type": "code",
   "execution_count": 17,
   "id": "7e78889f",
   "metadata": {},
   "outputs": [
    {
     "data": {
      "text/plain": [
       "┌───────┐\n",
       "│ count │\n",
       "│ int64 │\n",
       "├───────┤\n",
       "│ 43978 │\n",
       "└───────┘"
      ]
     },
     "execution_count": 17,
     "metadata": {},
     "output_type": "execute_result"
    }
   ],
   "source": [
    "# sanity check on exported Parquet file\n",
    "sql = \"\"\"\n",
    "    SELECT COUNT(*) AS count\n",
    "    FROM read_parquet('data/nfip-claims-nyc.parquet');\n",
    "\"\"\"\n",
    "\n",
    "duckdb.sql(sql)"
   ]
  },
  {
   "cell_type": "markdown",
   "id": "53b49066",
   "metadata": {},
   "source": [
    "# Create Policies Table using DuckDB\n",
    "We perform the same workflow as the Claims dataset but with Policies data."
   ]
  },
  {
   "cell_type": "code",
   "execution_count": 18,
   "id": "75ec0c38",
   "metadata": {},
   "outputs": [
    {
     "data": {
      "text/plain": [
       "┌──────────────────────┬────────────────────┬──────────────────────┬───┬──────────┬───────────┬──────────────────────┐\n",
       "│ agricultureStructu…  │ baseFloodElevation │ basementEnclosureC…  │ … │ latitude │ longitude │          id          │\n",
       "│       boolean        │       double       │        int64         │   │  double  │  double   │         uuid         │\n",
       "├──────────────────────┼────────────────────┼──────────────────────┼───┼──────────┼───────────┼──────────────────────┤\n",
       "│ false                │               13.0 │                    0 │ … │     40.8 │     -73.8 │ c4b3dc22-1f60-4d08…  │\n",
       "│ false                │               NULL │                 NULL │ … │     40.9 │     -73.8 │ e4f4f206-5a14-46e9…  │\n",
       "│ false                │               NULL │                    1 │ … │     40.8 │     -73.9 │ 93f58e3e-f563-4587…  │\n",
       "│ false                │               NULL │                    2 │ … │     40.8 │     -73.8 │ d4a416b2-f4ad-4cfb…  │\n",
       "│ false                │               NULL │                    1 │ … │     40.8 │     -73.8 │ 1eda7965-e3ae-4caa…  │\n",
       "├──────────────────────┴────────────────────┴──────────────────────┴───┴──────────┴───────────┴──────────────────────┤\n",
       "│ 5 rows                                                                                        81 columns (6 shown) │\n",
       "└────────────────────────────────────────────────────────────────────────────────────────────────────────────────────┘"
      ]
     },
     "execution_count": 18,
     "metadata": {},
     "output_type": "execute_result"
    }
   ],
   "source": [
    "# create a DuckDB database instance\n",
    "con = duckdb.connect()\n",
    "\n",
    "# create table policies of dataset\n",
    "con.execute(\"\"\"\n",
    "    CREATE TABLE policies AS\n",
    "        FROM read_json('data/policies-*.json')\n",
    "\"\"\")\n",
    "\n",
    "# sanity check\n",
    "sql = \"\"\"\n",
    "    SELECT *\n",
    "    FROM policies\n",
    "    LIMIT 5\n",
    "\"\"\"\n",
    "\n",
    "con.sql(sql)"
   ]
  },
  {
   "cell_type": "code",
   "execution_count": 19,
   "id": "329dd84c",
   "metadata": {},
   "outputs": [
    {
     "data": {
      "text/plain": [
       "┌────────┐\n",
       "│ count  │\n",
       "│ int64  │\n",
       "├────────┤\n",
       "│ 548267 │\n",
       "└────────┘"
      ]
     },
     "execution_count": 19,
     "metadata": {},
     "output_type": "execute_result"
    }
   ],
   "source": [
    "# sanity check\n",
    "sql = \"\"\"\n",
    "    SELECT COUNT(*) AS count\n",
    "    FROM policies\n",
    "\"\"\"\n",
    "\n",
    "con.sql(sql)"
   ]
  },
  {
   "cell_type": "code",
   "execution_count": 20,
   "id": "eba2017c",
   "metadata": {},
   "outputs": [],
   "source": [
    "# copy to a Parquet file\n",
    "sql = \"\"\"\n",
    "    COPY (SELECT * FROM policies)\n",
    "    TO 'data/nfip-policies-nyc.parquet'\n",
    "\"\"\"\n",
    "\n",
    "con.sql(sql)      "
   ]
  },
  {
   "cell_type": "code",
   "execution_count": 21,
   "id": "0789f454",
   "metadata": {},
   "outputs": [
    {
     "name": "stdout",
     "output_type": "stream",
     "text": [
      "614M\tdata/policies-36081.json\r\n",
      "421M\tdata/policies-36047.json\r\n",
      "290M\tdata/policies-36085.json\r\n",
      "104M\tdata/policies-36061.json\r\n",
      " 98M\tdata/policies-36005.json\r\n",
      " 48M\tdata/claims-36085.json\r\n",
      " 37M\tdata/nfip-policies-nyc.parquet\r\n",
      " 37M\tdata/claims-36081.json\r\n",
      " 16M\tdata/claims-36047.json\r\n",
      "4.8M\tdata/claims-36005.json\r\n",
      "3.7M\tdata/claims-36061.json\r\n",
      "3.5M\tdata/nfip-claims-nyc.parquet\r\n"
     ]
    }
   ],
   "source": [
    "# preview size of file\n",
    "!du -sh data/* | sort -rh"
   ]
  },
  {
   "cell_type": "code",
   "execution_count": 22,
   "id": "8154f093",
   "metadata": {},
   "outputs": [
    {
     "data": {
      "text/plain": [
       "┌────────┐\n",
       "│ count  │\n",
       "│ int64  │\n",
       "├────────┤\n",
       "│ 548267 │\n",
       "└────────┘"
      ]
     },
     "execution_count": 22,
     "metadata": {},
     "output_type": "execute_result"
    }
   ],
   "source": [
    "# sanity check on exported Parquet file\n",
    "sql = \"\"\"\n",
    "    SELECT COUNT(*) AS count\n",
    "    FROM read_parquet('data/nfip-policies-nyc.parquet');\n",
    "\"\"\"\n",
    "\n",
    "duckdb.sql(sql)"
   ]
  },
  {
   "cell_type": "code",
   "execution_count": null,
   "id": "f0f0c95b",
   "metadata": {},
   "outputs": [],
   "source": []
  }
 ],
 "metadata": {
  "kernelspec": {
   "display_name": "Python 3 (ipykernel)",
   "language": "python",
   "name": "python3"
  },
  "language_info": {
   "codemirror_mode": {
    "name": "ipython",
    "version": 3
   },
   "file_extension": ".py",
   "mimetype": "text/x-python",
   "name": "python",
   "nbconvert_exporter": "python",
   "pygments_lexer": "ipython3",
   "version": "3.11.0"
  }
 },
 "nbformat": 4,
 "nbformat_minor": 5
}
