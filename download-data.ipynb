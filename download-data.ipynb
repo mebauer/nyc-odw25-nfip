{
 "cells": [
  {
   "cell_type": "markdown",
   "id": "0b49f6ee",
   "metadata": {},
   "source": [
    "# Download NFIP Redacted Claims and Policies Data for New York City"
   ]
  },
  {
   "cell_type": "markdown",
   "id": "e5981873",
   "metadata": {},
   "source": [
    "# Objective\n",
    "\n",
    "This notebook demonstrates the following:\n",
    "\n",
    "- Downloading the [NFIP Redacted Claims](https://www.fema.gov/openfema-data-page/fima-nfip-redacted-claims-v2) and [Redacted Policies](https://www.fema.gov/openfema-data-page/fima-nfip-redacted-policies-v2) data from [OpenFEMA](https://www.fema.gov/about/reports-and-data/openfema)\n",
    "- Learn how to use the [OpenFEMA API](https://www.fema.gov/about/openfema/api)\n",
    "- Working with [Parquet](https://parquet.apache.org/) files and [DuckDB](https://duckdb.org/)\n",
    "- Conducting basic exploratory data analysis (EDA) with DuckDB\n",
    "- Filtering and writing out records specific to New York City\n",
    "\n",
    "While the [OpenFEMA API](https://www.fema.gov/about/openfema/api) offers a method to [page through large datasets](https://www.fema.gov/about/openfema/working-with-large-data-sets) (e.g., [NFIP Redacted Policies](https://www.fema.gov/openfema-data-page/fima-nfip-redacted-policies-v2)), which is ideal for cases where you don't want to download the entire dataset locally, the size of the NFIP Redacted Claims dataset allows us to download the full Parquet file. For this analysis, we use DuckDB to efficiently filter and write out only the records relevant to New York City.\n",
    "\n",
    "Note: Due to GitHub's file size limitations, the full NFIP Redacted Claims and Policies datasets are excluded from this repository."
   ]
  },
  {
   "cell_type": "code",
   "execution_count": 12,
   "id": "05d1f78f",
   "metadata": {},
   "outputs": [],
   "source": [
    "# import libaries\n",
    "import csv\n",
    "import time\n",
    "from datetime import datetime\n",
    "import logging\n",
    "\n",
    "import requests\n",
    "from bs4 import BeautifulSoup\n",
    "import duckdb\n",
    "import pandas as pd\n",
    "\n",
    "import nfip_download"
   ]
  },
  {
   "cell_type": "code",
   "execution_count": 13,
   "id": "d0112939",
   "metadata": {},
   "outputs": [
    {
     "name": "stdout",
     "output_type": "stream",
     "text": [
      "Python implementation: CPython\n",
      "Python version       : 3.11.0\n",
      "IPython version      : 8.6.0\n",
      "\n",
      "csv     : 1.0\n",
      "logging : 0.5.1.2\n",
      "requests: 2.28.1\n",
      "duckdb  : 1.0.0\n",
      "pandas  : 1.5.1\n",
      "bs4     : 4.11.1\n",
      "\n"
     ]
    }
   ],
   "source": [
    "# reproducibility\n",
    "%reload_ext watermark\n",
    "%watermark -v -p csv,logging,requests,duckdb,pandas,requests,bs4"
   ]
  },
  {
   "cell_type": "code",
   "execution_count": 8,
   "id": "642b1e30",
   "metadata": {},
   "outputs": [
    {
     "name": "stdout",
     "output_type": "stream",
     "text": [
      "The data was retrieved on 2025-03-25.\n"
     ]
    }
   ],
   "source": [
    "# data retrieved\n",
    "current_date = datetime.now()\n",
    "print(f\"The data was retrieved on {current_date.strftime('%Y-%m-%d')}.\")"
   ]
  },
  {
   "cell_type": "markdown",
   "id": "758ef554",
   "metadata": {},
   "source": [
    "# Getting Started: OpenFEMA\n",
    "- [OpenFEMA](https://www.fema.gov/about/reports-and-data/openfema): The public’s resource for FEMA program data. Promoting a culture of Open Government and increasing transparency, participation, and collaboration among the Whole Community in support of FEMA's mission to help people before, during, and after disasters.\n",
    "\n",
    "\n",
    "- [OpenFEMA Developer Resources](https://www.fema.gov/about/openfema/developer-resources): Welcome to the OpenFEMA Developer Resources page, devoted to providing additional development information regarding our Application Programming Interface (API) for use in your applications and mashups.  The API is free of charge and does not currently have user registration requirements.\n",
    "\n",
    "\n",
    "- [OpenFEMA API Documentation](https://www.fema.gov/about/openfema/api): As part of the OpenFEMA initiative, FEMA is providing read-only API based access to datasets (Entities). The data is exposed using a RESTful interface that uses query string parameters to manage the query. Use of the service is free and does not require a subscription or API key.\n",
    "\n",
    "\n",
    "- [OpenFEMA Terms and Conditions](https://www.fema.gov/about/openfema/terms-conditions): Respect the OpenFEMA API and content on this website. Use the Site in a lawful manner. Do not modify the Site or attempt to use it to publish or transmit malicious software or content. FEMA shall not be liable for any damages resulting from the use of this website, API services, or content. Do not attempt to reidentify the individuals whose data may be aggregated. We may suspend your access to this website if we feel you have not complied with these terms and conditions.."
   ]
  },
  {
   "cell_type": "markdown",
   "id": "152772a2",
   "metadata": {},
   "source": [
    "# OpenFEMA Dataset: FIMA NFIP Redacted Claims - v2\n",
    "\n",
    "[OpenFEMA Dataset: FIMA NFIP Redacted Claims - v2](https://www.fema.gov/openfema-data-page/fima-nfip-redacted-claims-v2): Congress passed the National Flood Insurance Act (NFIA), 42 U.S.C. 4001 in 1968, creating the National Flood Insurance Program (NFIP) in order to reduce future flood losses through flood hazard identification, floodplain management, and providing insurance protection. This dataset provides details on NFIP claims transactions. It is derived from the NFIP system of record, staged in the NFIP reporting platform and redacted to protect policy holder personally identifiable information."
   ]
  },
  {
   "cell_type": "markdown",
   "id": "0b960b1c",
   "metadata": {},
   "source": [
    "![dataset-page](images/dataset-page.png)\n",
    "\n",
    "Screenshot of NFIP Redacted Claims dataset page."
   ]
  },
  {
   "cell_type": "markdown",
   "id": "72d24e56",
   "metadata": {},
   "source": [
    "# OpenFEMA Dataset: FIMA NFIP Redacted Policies - v2\n",
    "\n",
    "[OpenFEMA Dataset: FIMA NFIP Redacted Policies - v2](https://www.fema.gov/openfema-data-page/fima-nfip-redacted-policies-v2): Congress passed the National Flood Insurance Act (NFIA), 42 U.S.C. 4001 in 1968, creating the National Flood Insurance Program (NFIP) in order to reduce future flood losses through flood hazard identification, floodplain management, and providing insurance protection. This dataset provides details on NFIP policy transactions. It is derived from the NFIP system of record, staged in the NFIP reporting platform and redacted to protect policy holder personally identifiable information."
   ]
  },
  {
   "cell_type": "markdown",
   "id": "36404736",
   "metadata": {},
   "source": [
    "# Download Data Dictionary\n",
    "Extract web-based data dictionary programatically."
   ]
  },
  {
   "cell_type": "code",
   "execution_count": 10,
   "id": "52065e16",
   "metadata": {},
   "outputs": [
    {
     "name": "stdout",
     "output_type": "stream",
     "text": [
      "data dictionary has been written.\n"
     ]
    }
   ],
   "source": [
    "# URL of the page containing the table\n",
    "url = 'https://www.fema.gov/openfema-data-page/fima-nfip-redacted-claims-v2'\n",
    "outfile = 'data-dictionary.csv'\n",
    "\n",
    "# request the page content\n",
    "response = requests.get(url)\n",
    "soup = BeautifulSoup(response.content, 'html.parser')\n",
    "\n",
    "# find the third table with the 'usa-table' class\n",
    "table = soup.find_all('table', class_='usa-table')[2]  # index 2 for the third table\n",
    "\n",
    "# extract table headers\n",
    "headers = [header.text.strip() for header in table.find_all('th')]\n",
    "\n",
    "# extract table rows\n",
    "rows = []\n",
    "for row in table.find_all('tr')[1:]:  # skip the header row\n",
    "    cells = row.find_all('td')\n",
    "    if cells:\n",
    "        row_data = [cell.text.strip() for cell in cells]\n",
    "        rows.append(row_data)\n",
    "\n",
    "# write to CSV file\n",
    "with open(outfile, 'w', newline='', encoding='utf-8') as file:\n",
    "    writer = csv.writer(file)\n",
    "    writer.writerow(headers)  # write header\n",
    "    writer.writerows(rows)    # write data rows\n",
    "\n",
    "print(\"data dictionary has been written.\")"
   ]
  },
  {
   "cell_type": "code",
   "execution_count": 16,
   "id": "459879c4",
   "metadata": {},
   "outputs": [
    {
     "name": "stdout",
     "output_type": "stream",
     "text": [
      "(73, 5)\n"
     ]
    },
    {
     "data": {
      "text/html": [
       "<div>\n",
       "<style scoped>\n",
       "    .dataframe tbody tr th:only-of-type {\n",
       "        vertical-align: middle;\n",
       "    }\n",
       "\n",
       "    .dataframe tbody tr th {\n",
       "        vertical-align: top;\n",
       "    }\n",
       "\n",
       "    .dataframe thead th {\n",
       "        text-align: right;\n",
       "    }\n",
       "</style>\n",
       "<table border=\"1\" class=\"dataframe\">\n",
       "  <thead>\n",
       "    <tr style=\"text-align: right;\">\n",
       "      <th></th>\n",
       "      <th>Name</th>\n",
       "      <th>Title</th>\n",
       "      <th>Type</th>\n",
       "      <th>Description</th>\n",
       "      <th>Is Searchable</th>\n",
       "    </tr>\n",
       "  </thead>\n",
       "  <tbody>\n",
       "    <tr>\n",
       "      <th>0</th>\n",
       "      <td>agricultureStructureIndicator</td>\n",
       "      <td>Agriculture Structure Indicator</td>\n",
       "      <td>boolean</td>\n",
       "      <td>Indicates whether a building is reported as be...</td>\n",
       "      <td>no</td>\n",
       "    </tr>\n",
       "    <tr>\n",
       "      <th>1</th>\n",
       "      <td>asOfDate</td>\n",
       "      <td>As of Date</td>\n",
       "      <td>datetime</td>\n",
       "      <td>The effective date of the data in the file. In...</td>\n",
       "      <td>yes</td>\n",
       "    </tr>\n",
       "    <tr>\n",
       "      <th>2</th>\n",
       "      <td>basementEnclosureCrawlspaceType</td>\n",
       "      <td>Basement Enclosure Crawlspace Type</td>\n",
       "      <td>smallint</td>\n",
       "      <td>Basement is defined for purposes of the NFIP a...</td>\n",
       "      <td>yes</td>\n",
       "    </tr>\n",
       "    <tr>\n",
       "      <th>3</th>\n",
       "      <td>policyCount</td>\n",
       "      <td>Policy Count</td>\n",
       "      <td>smallint</td>\n",
       "      <td>Insured units in an active status. A policy co...</td>\n",
       "      <td>yes</td>\n",
       "    </tr>\n",
       "    <tr>\n",
       "      <th>4</th>\n",
       "      <td>crsClassificationCode</td>\n",
       "      <td>CRS Classification Code</td>\n",
       "      <td>smallint</td>\n",
       "      <td>The Community Rating System (CRS) Classificati...</td>\n",
       "      <td>yes</td>\n",
       "    </tr>\n",
       "  </tbody>\n",
       "</table>\n",
       "</div>"
      ],
      "text/plain": [
       "                              Name                               Title  \\\n",
       "0    agricultureStructureIndicator     Agriculture Structure Indicator   \n",
       "1                         asOfDate                          As of Date   \n",
       "2  basementEnclosureCrawlspaceType  Basement Enclosure Crawlspace Type   \n",
       "3                      policyCount                        Policy Count   \n",
       "4            crsClassificationCode             CRS Classification Code   \n",
       "\n",
       "       Type                                        Description Is Searchable  \n",
       "0   boolean  Indicates whether a building is reported as be...            no  \n",
       "1  datetime  The effective date of the data in the file. In...           yes  \n",
       "2  smallint  Basement is defined for purposes of the NFIP a...           yes  \n",
       "3  smallint  Insured units in an active status. A policy co...           yes  \n",
       "4  smallint  The Community Rating System (CRS) Classificati...           yes  "
      ]
     },
     "execution_count": 16,
     "metadata": {},
     "output_type": "execute_result"
    }
   ],
   "source": [
    "# preview data dictionary\n",
    "data_dictionary = pd.read_csv('data-dictionary.csv')\n",
    "\n",
    "print(data_dictionary.shape)\n",
    "data_dictionary.head()"
   ]
  },
  {
   "cell_type": "markdown",
   "id": "f498cf46",
   "metadata": {},
   "source": [
    "# Download Claims and Policies Data for New York City\n",
    "I wrote a script that utilizes the OpenFEMA API to programmatically export NFIP Claims and Policies data by County FIPS code."
   ]
  },
  {
   "cell_type": "code",
   "execution_count": 17,
   "id": "cfa62471",
   "metadata": {},
   "outputs": [
    {
     "name": "stderr",
     "output_type": "stream",
     "text": [
      "2025-03-25 18:48:56,786 - INFO - Starting to download claims data for county FIPS: 36005\n",
      "2025-03-25 18:48:59,366 - INFO - Chunk is less than 10,000 rows returned, finishing download.\n",
      "2025-03-25 18:48:59,367 - INFO - Download completed. Total rows fetched: 1942\n",
      "2025-03-25 18:48:59,619 - INFO - Data saved to data/claims-36005.json\n",
      "2025-03-25 18:49:00,622 - INFO - Starting to download claims data for county FIPS: 36047\n",
      "2025-03-25 18:49:05,001 - INFO - Chunk is less than 10,000 rows returned, finishing download.\n",
      "2025-03-25 18:49:05,002 - INFO - Download completed. Total rows fetched: 6264\n",
      "2025-03-25 18:49:05,798 - INFO - Data saved to data/claims-36047.json\n",
      "2025-03-25 18:49:06,807 - INFO - Starting to download claims data for county FIPS: 36061\n",
      "2025-03-25 18:49:09,188 - INFO - Chunk is less than 10,000 rows returned, finishing download.\n",
      "2025-03-25 18:49:09,189 - INFO - Download completed. Total rows fetched: 1485\n",
      "2025-03-25 18:49:09,395 - INFO - Data saved to data/claims-36061.json\n",
      "2025-03-25 18:49:10,400 - INFO - Starting to download claims data for county FIPS: 36081\n",
      "2025-03-25 18:49:24,228 - INFO - Chunk is less than 10,000 rows returned, finishing download.\n",
      "2025-03-25 18:49:24,228 - INFO - Download completed. Total rows fetched: 14873\n",
      "2025-03-25 18:49:26,262 - INFO - Data saved to data/claims-36081.json\n",
      "2025-03-25 18:49:27,288 - INFO - Starting to download claims data for county FIPS: 36085\n",
      "2025-03-25 18:49:42,998 - INFO - Chunk is less than 10,000 rows returned, finishing download.\n",
      "2025-03-25 18:49:42,998 - INFO - Download completed. Total rows fetched: 19414\n",
      "2025-03-25 18:49:45,576 - INFO - Data saved to data/claims-36085.json\n",
      "2025-03-25 18:49:46,598 - INFO - Starting to download policies data for county FIPS: 36005\n",
      "2025-03-25 18:50:20,761 - INFO - Chunk is less than 10,000 rows returned, finishing download.\n",
      "2025-03-25 18:50:20,762 - INFO - Download completed. Total rows fetched: 35228\n",
      "2025-03-25 18:50:25,659 - INFO - Data saved to data/policies-36005.json\n",
      "2025-03-25 18:50:26,707 - INFO - Starting to download policies data for county FIPS: 36047\n",
      "2025-03-25 18:52:57,089 - INFO - Chunk is less than 10,000 rows returned, finishing download.\n",
      "2025-03-25 18:52:57,090 - INFO - Download completed. Total rows fetched: 151256\n",
      "2025-03-25 18:53:17,237 - INFO - Data saved to data/policies-36047.json\n",
      "2025-03-25 18:53:18,468 - INFO - Starting to download policies data for county FIPS: 36061\n",
      "2025-03-25 18:53:52,133 - INFO - Chunk is less than 10,000 rows returned, finishing download.\n",
      "2025-03-25 18:53:52,133 - INFO - Download completed. Total rows fetched: 37249\n",
      "2025-03-25 18:53:56,897 - INFO - Data saved to data/policies-36061.json\n",
      "2025-03-25 18:53:57,952 - INFO - Starting to download policies data for county FIPS: 36081\n",
      "2025-03-25 18:57:49,592 - INFO - Chunk is less than 10,000 rows returned, finishing download.\n",
      "2025-03-25 18:57:49,593 - INFO - Download completed. Total rows fetched: 220427\n",
      "2025-03-25 18:58:25,219 - INFO - Data saved to data/policies-36081.json\n",
      "2025-03-25 18:58:26,549 - INFO - Starting to download policies data for county FIPS: 36085\n",
      "2025-03-25 19:00:18,503 - INFO - Chunk is less than 10,000 rows returned, finishing download.\n",
      "2025-03-25 19:00:18,504 - INFO - Download completed. Total rows fetched: 104107\n",
      "2025-03-25 19:00:32,787 - INFO - Data saved to data/policies-36085.json\n"
     ]
    }
   ],
   "source": [
    "# list datasets\n",
    "datasets = ['claims', 'policies']\n",
    "\n",
    "# count fips codes for NYC five boroughs\n",
    "county_fips = [\n",
    "    '36005',\n",
    "    '36047',\n",
    "    '36061',\n",
    "    '36081',\n",
    "    '36085'\n",
    "]\n",
    "\n",
    "# loop over datasets and county fips codes and execute nfip_download script\n",
    "for dataset in datasets:\n",
    "    for county in county_fips:\n",
    "        nfip_download.download_data(dataset, county)\n",
    "        \n",
    "        # sleep for one second\n",
    "        time.sleep(1)"
   ]
  },
  {
   "cell_type": "code",
   "execution_count": 18,
   "id": "5bc4a8d7",
   "metadata": {},
   "outputs": [
    {
     "name": "stdout",
     "output_type": "stream",
     "text": [
      "614M\tdata/policies-36081.json\r\n",
      "421M\tdata/policies-36047.json\r\n",
      "290M\tdata/policies-36085.json\r\n",
      "104M\tdata/policies-36061.json\r\n",
      " 98M\tdata/policies-36005.json\r\n",
      " 48M\tdata/claims-36085.json\r\n",
      " 37M\tdata/claims-36081.json\r\n",
      " 16M\tdata/claims-36047.json\r\n",
      "4.8M\tdata/claims-36005.json\r\n",
      "3.7M\tdata/claims-36061.json\r\n"
     ]
    }
   ],
   "source": [
    "# preview size of file\n",
    "!du -sh data/* | sort -rh"
   ]
  },
  {
   "cell_type": "markdown",
   "id": "bb6576cb",
   "metadata": {},
   "source": [
    "# Create Claims Table using DuckDB\n",
    "After exporting and downloading the claims and policies data from OpenFEMA, the next step is to create a table that includes data for each individual county. Once the table is created, we will save it as a Parquet file."
   ]
  },
  {
   "cell_type": "code",
   "execution_count": 19,
   "id": "598ea010",
   "metadata": {},
   "outputs": [
    {
     "data": {
      "text/plain": [
       "┌──────────────────────┬──────────────────────┬──────────────────────┬───┬──────────┬───────────┬──────────────────────┐\n",
       "│ agricultureStructu…  │       asOfDate       │ basementEnclosureC…  │ … │ latitude │ longitude │          id          │\n",
       "│       boolean        │       varchar        │        int64         │   │  double  │  double   │         uuid         │\n",
       "├──────────────────────┼──────────────────────┼──────────────────────┼───┼──────────┼───────────┼──────────────────────┤\n",
       "│ false                │ 2020-09-10T19:02:5…  │                    1 │ … │     40.8 │     -73.8 │ 80349555-9429-4ec2…  │\n",
       "│ false                │ 2024-09-23T14:02:0…  │                    1 │ … │     40.9 │     -73.8 │ e1d4d5a4-c438-4ef1…  │\n",
       "│ false                │ 2020-01-22T16:55:5…  │                    2 │ … │     40.8 │     -73.9 │ c9b02a95-815a-4c69…  │\n",
       "│ false                │ 2020-01-22T16:55:5…  │                    2 │ … │     40.8 │     -73.9 │ c43c75c0-9add-4c96…  │\n",
       "│ false                │ 2020-01-22T16:55:5…  │                 NULL │ … │     40.8 │     -73.8 │ 4fd50779-17b7-4461…  │\n",
       "├──────────────────────┴──────────────────────┴──────────────────────┴───┴──────────┴───────────┴──────────────────────┤\n",
       "│ 5 rows                                                                                          73 columns (6 shown) │\n",
       "└──────────────────────────────────────────────────────────────────────────────────────────────────────────────────────┘"
      ]
     },
     "execution_count": 19,
     "metadata": {},
     "output_type": "execute_result"
    }
   ],
   "source": [
    "# create a DuckDB database instance\n",
    "con = duckdb.connect()\n",
    "\n",
    "# create table claims of dataset\n",
    "con.execute(\"\"\"\n",
    "    CREATE TABLE claims AS\n",
    "        FROM read_json('data/claims-*.json')\n",
    "\"\"\")\n",
    "\n",
    "# sanity check, select five rows\n",
    "sql = \"\"\"\n",
    "    SELECT *\n",
    "    FROM claims\n",
    "    LIMIT 5\n",
    "\"\"\"\n",
    "\n",
    "con.sql(sql)"
   ]
  },
  {
   "cell_type": "code",
   "execution_count": 20,
   "id": "e10ae579",
   "metadata": {},
   "outputs": [
    {
     "data": {
      "text/plain": [
       "┌───────┐\n",
       "│ count │\n",
       "│ int64 │\n",
       "├───────┤\n",
       "│ 43978 │\n",
       "└───────┘"
      ]
     },
     "execution_count": 20,
     "metadata": {},
     "output_type": "execute_result"
    }
   ],
   "source": [
    "# sanity check, number of rows\n",
    "sql = \"\"\"\n",
    "    SELECT COUNT(*) AS count\n",
    "    FROM claims\n",
    "\"\"\"\n",
    "\n",
    "con.sql(sql)"
   ]
  },
  {
   "cell_type": "code",
   "execution_count": 21,
   "id": "559c80ff",
   "metadata": {},
   "outputs": [
    {
     "data": {
      "text/plain": [
       "┌───────────────┐\n",
       "│ count_columns │\n",
       "│     int64     │\n",
       "├───────────────┤\n",
       "│            73 │\n",
       "└───────────────┘"
      ]
     },
     "execution_count": 21,
     "metadata": {},
     "output_type": "execute_result"
    }
   ],
   "source": [
    "# sanity check, number of columns\n",
    "sql = \"\"\"\n",
    "    SELECT\n",
    "        COUNT(column_name) AS count_columns\n",
    "    FROM\n",
    "        (DESCRIBE FROM claims)\n",
    "\"\"\"\n",
    "\n",
    "con.sql(sql)"
   ]
  },
  {
   "cell_type": "code",
   "execution_count": 22,
   "id": "4d445243",
   "metadata": {},
   "outputs": [
    {
     "data": {
      "text/plain": [
       "┌──────────────────────────┐\n",
       "│         asOfDate         │\n",
       "│         varchar          │\n",
       "├──────────────────────────┤\n",
       "│ 2025-03-10T15:48:30.729Z │\n",
       "└──────────────────────────┘"
      ]
     },
     "execution_count": 22,
     "metadata": {},
     "output_type": "execute_result"
    }
   ],
   "source": [
    "# sanity check, last updated record\n",
    "sql = \"\"\"\n",
    "    SELECT\n",
    "        asOfDate\n",
    "    FROM\n",
    "        claims\n",
    "    ORDER BY\n",
    "        asOfDate DESC\n",
    "    LIMIT 1\n",
    "\"\"\"\n",
    "\n",
    "con.sql(sql)"
   ]
  },
  {
   "cell_type": "code",
   "execution_count": 23,
   "id": "4043bbfe",
   "metadata": {},
   "outputs": [
    {
     "name": "stdout",
     "output_type": "stream",
     "text": [
      "┌────────────────────────────────────────────┬─────────────┐\n",
      "│                column_name                 │ column_type │\n",
      "│                  varchar                   │   varchar   │\n",
      "├────────────────────────────────────────────┼─────────────┤\n",
      "│ agricultureStructureIndicator              │ BOOLEAN     │\n",
      "│ asOfDate                                   │ VARCHAR     │\n",
      "│ basementEnclosureCrawlspaceType            │ BIGINT      │\n",
      "│ policyCount                                │ BIGINT      │\n",
      "│ crsClassificationCode                      │ BIGINT      │\n",
      "│ dateOfLoss                                 │ VARCHAR     │\n",
      "│ elevatedBuildingIndicator                  │ BOOLEAN     │\n",
      "│ elevationCertificateIndicator              │ VARCHAR     │\n",
      "│ elevationDifference                        │ BIGINT      │\n",
      "│ baseFloodElevation                         │ DOUBLE      │\n",
      "│ ratedFloodZone                             │ VARCHAR     │\n",
      "│ houseWorship                               │ BOOLEAN     │\n",
      "│ locationOfContents                         │ BIGINT      │\n",
      "│ lowestAdjacentGrade                        │ DOUBLE      │\n",
      "│ lowestFloorElevation                       │ DOUBLE      │\n",
      "│ numberOfFloorsInTheInsuredBuilding         │ BIGINT      │\n",
      "│ nonProfitIndicator                         │ BOOLEAN     │\n",
      "│ obstructionType                            │ BIGINT      │\n",
      "│ occupancyType                              │ BIGINT      │\n",
      "│ originalConstructionDate                   │ VARCHAR     │\n",
      "│ originalNBDate                             │ VARCHAR     │\n",
      "│ amountPaidOnBuildingClaim                  │ DOUBLE      │\n",
      "│ amountPaidOnContentsClaim                  │ DOUBLE      │\n",
      "│ amountPaidOnIncreasedCostOfComplianceClaim │ DOUBLE      │\n",
      "│ postFIRMConstructionIndicator              │ BOOLEAN     │\n",
      "│ rateMethod                                 │ VARCHAR     │\n",
      "│ smallBusinessIndicatorBuilding             │ BOOLEAN     │\n",
      "│ totalBuildingInsuranceCoverage             │ BIGINT      │\n",
      "│ totalContentsInsuranceCoverage             │ BIGINT      │\n",
      "│ yearOfLoss                                 │ BIGINT      │\n",
      "│ primaryResidenceIndicator                  │ BOOLEAN     │\n",
      "│ buildingDamageAmount                       │ BIGINT      │\n",
      "│ buildingDeductibleCode                     │ VARCHAR     │\n",
      "│ netBuildingPaymentAmount                   │ DOUBLE      │\n",
      "│ buildingPropertyValue                      │ BIGINT      │\n",
      "│ causeOfDamage                              │ VARCHAR     │\n",
      "│ condominiumCoverageTypeCode                │ VARCHAR     │\n",
      "│ contentsDamageAmount                       │ BIGINT      │\n",
      "│ contentsDeductibleCode                     │ VARCHAR     │\n",
      "│ netContentsPaymentAmount                   │ DOUBLE      │\n",
      "│ contentsPropertyValue                      │ BIGINT      │\n",
      "│ disasterAssistanceCoverageRequired         │ BIGINT      │\n",
      "│ eventDesignationNumber                     │ VARCHAR     │\n",
      "│ ficoNumber                                 │ BIGINT      │\n",
      "│ floodCharacteristicsIndicator              │ BIGINT      │\n",
      "│ floodWaterDuration                         │ BIGINT      │\n",
      "│ floodproofedIndicator                      │ BOOLEAN     │\n",
      "│ floodEvent                                 │ VARCHAR     │\n",
      "│ iccCoverage                                │ BIGINT      │\n",
      "│ netIccPaymentAmount                        │ DOUBLE      │\n",
      "│ nfipRatedCommunityNumber                   │ VARCHAR     │\n",
      "│ nfipCommunityNumberCurrent                 │ VARCHAR     │\n",
      "│ nfipCommunityName                          │ VARCHAR     │\n",
      "│ nonPaymentReasonContents                   │ VARCHAR     │\n",
      "│ nonPaymentReasonBuilding                   │ VARCHAR     │\n",
      "│ numberOfUnits                              │ BIGINT      │\n",
      "│ buildingReplacementCost                    │ BIGINT      │\n",
      "│ contentsReplacementCost                    │ BIGINT      │\n",
      "│ replacementCostBasis                       │ VARCHAR     │\n",
      "│ stateOwnedIndicator                        │ BOOLEAN     │\n",
      "│ waterDepth                                 │ BIGINT      │\n",
      "│ floodZoneCurrent                           │ VARCHAR     │\n",
      "│ buildingDescriptionCode                    │ BIGINT      │\n",
      "│ rentalPropertyIndicator                    │ BOOLEAN     │\n",
      "│ state                                      │ VARCHAR     │\n",
      "│ reportedCity                               │ VARCHAR     │\n",
      "│ reportedZipCode                            │ VARCHAR     │\n",
      "│ countyCode                                 │ VARCHAR     │\n",
      "│ censusTract                                │ VARCHAR     │\n",
      "│ censusBlockGroupFips                       │ VARCHAR     │\n",
      "│ latitude                                   │ DOUBLE      │\n",
      "│ longitude                                  │ DOUBLE      │\n",
      "│ id                                         │ UUID        │\n",
      "├────────────────────────────────────────────┴─────────────┤\n",
      "│ 73 rows                                        2 columns │\n",
      "└──────────────────────────────────────────────────────────┘\n",
      "\n"
     ]
    }
   ],
   "source": [
    "# sanity check, column and datatypes\n",
    "sql = \"\"\"\n",
    "    SELECT\n",
    "        column_name,\n",
    "        column_type\n",
    "    FROM\n",
    "        (DESCRIBE claims)\n",
    "\"\"\"\n",
    "\n",
    "con.sql(sql).show(max_rows=80)"
   ]
  },
  {
   "cell_type": "code",
   "execution_count": 24,
   "id": "611be770",
   "metadata": {},
   "outputs": [
    {
     "name": "stdout",
     "output_type": "stream",
     "text": [
      "┌────────────────────────────────────────────┬─────────────────┐\n",
      "│                column_name                 │ null_percentage │\n",
      "│                  varchar                   │  decimal(9,2)   │\n",
      "├────────────────────────────────────────────┼─────────────────┤\n",
      "│ crsClassificationCode                      │          100.00 │\n",
      "│ floodCharacteristicsIndicator              │           99.70 │\n",
      "│ eventDesignationNumber                     │           97.31 │\n",
      "│ lowestAdjacentGrade                        │           87.20 │\n",
      "│ lowestFloorElevation                       │           86.93 │\n",
      "│ baseFloodElevation                         │           86.62 │\n",
      "│ elevationDifference                        │           86.50 │\n",
      "│ nonPaymentReasonBuilding                   │           80.12 │\n",
      "│ nonPaymentReasonContents                   │           74.26 │\n",
      "│ nfipCommunityNumberCurrent                 │           73.34 │\n",
      "│ floodZoneCurrent                           │           73.34 │\n",
      "│ nfipCommunityName                          │           72.57 │\n",
      "│ elevationCertificateIndicator              │           70.74 │\n",
      "│ buildingDescriptionCode                    │           60.24 │\n",
      "│ contentsDamageAmount                       │           55.10 │\n",
      "│ contentsPropertyValue                      │           55.10 │\n",
      "│ contentsReplacementCost                    │           55.10 │\n",
      "│ obstructionType                            │           53.49 │\n",
      "│ iccCoverage                                │           45.78 │\n",
      "│ basementEnclosureCrawlspaceType            │           42.92 │\n",
      "│ contentsDeductibleCode                     │           41.20 │\n",
      "│ ficoNumber                                 │           36.62 │\n",
      "│ locationOfContents                         │           36.07 │\n",
      "│ ratedFloodZone                             │           33.85 │\n",
      "│ buildingDeductibleCode                     │           33.08 │\n",
      "│ floodEvent                                 │           32.89 │\n",
      "│ buildingDamageAmount                       │           21.17 │\n",
      "│ buildingPropertyValue                      │           21.17 │\n",
      "│ buildingReplacementCost                    │           21.17 │\n",
      "│ amountPaidOnBuildingClaim                  │           16.06 │\n",
      "│ amountPaidOnContentsClaim                  │           16.06 │\n",
      "│ amountPaidOnIncreasedCostOfComplianceClaim │           16.06 │\n",
      "│ disasterAssistanceCoverageRequired         │           12.87 │\n",
      "│ replacementCostBasis                       │            8.21 │\n",
      "│ rateMethod                                 │            8.20 │\n",
      "│ floodWaterDuration                         │            5.89 │\n",
      "│ waterDepth                                 │            5.04 │\n",
      "│ condominiumCoverageTypeCode                │            4.92 │\n",
      "│ censusTract                                │            0.88 │\n",
      "│ censusBlockGroupFips                       │            0.88 │\n",
      "│ causeOfDamage                              │            0.56 │\n",
      "│ numberOfFloorsInTheInsuredBuilding         │            0.18 │\n",
      "│ occupancyType                              │            0.06 │\n",
      "│ numberOfUnits                              │            0.04 │\n",
      "│ originalConstructionDate                   │            0.01 │\n",
      "├────────────────────────────────────────────┴─────────────────┤\n",
      "│ 45 rows                                            2 columns │\n",
      "└──────────────────────────────────────────────────────────────┘\n",
      "\n"
     ]
    }
   ],
   "source": [
    "# sanity check, percent null per column\n",
    "sql = \"\"\"\n",
    "    SELECT\n",
    "        column_name,\n",
    "        null_percentage\n",
    "    FROM\n",
    "        (SUMMARIZE FROM claims)\n",
    "    WHERE\n",
    "        null_percentage > 0\n",
    "    ORDER BY\n",
    "        null_percentage DESC\n",
    "\"\"\"\n",
    "\n",
    "con.sql(sql).show(max_rows=80)"
   ]
  },
  {
   "cell_type": "markdown",
   "id": "933045ff",
   "metadata": {},
   "source": [
    "# Write Out Claims as Parquet"
   ]
  },
  {
   "cell_type": "code",
   "execution_count": 25,
   "id": "abc588b3",
   "metadata": {},
   "outputs": [],
   "source": [
    "# copy to a Parquet file\n",
    "sql = \"\"\"\n",
    "    COPY (SELECT * FROM claims)\n",
    "    TO 'data/nfip-claims-nyc.parquet'\n",
    "\"\"\"\n",
    "\n",
    "con.sql(sql)      "
   ]
  },
  {
   "cell_type": "code",
   "execution_count": 26,
   "id": "40d360f1",
   "metadata": {},
   "outputs": [
    {
     "name": "stdout",
     "output_type": "stream",
     "text": [
      "claims-36005.json        claims-36085.json        policies-36061.json\r\n",
      "claims-36047.json        nfip-claims-nyc.parquet  policies-36081.json\r\n",
      "claims-36061.json        policies-36005.json      policies-36085.json\r\n",
      "claims-36081.json        policies-36047.json\r\n"
     ]
    }
   ],
   "source": [
    "# confirm download\n",
    "%ls data/"
   ]
  },
  {
   "cell_type": "code",
   "execution_count": 27,
   "id": "ecbbed93",
   "metadata": {},
   "outputs": [
    {
     "name": "stdout",
     "output_type": "stream",
     "text": [
      "614M\tdata/policies-36081.json\r\n",
      "421M\tdata/policies-36047.json\r\n",
      "290M\tdata/policies-36085.json\r\n",
      "104M\tdata/policies-36061.json\r\n",
      " 98M\tdata/policies-36005.json\r\n",
      " 48M\tdata/claims-36085.json\r\n",
      " 37M\tdata/claims-36081.json\r\n",
      " 16M\tdata/claims-36047.json\r\n",
      "4.8M\tdata/claims-36005.json\r\n",
      "3.7M\tdata/claims-36061.json\r\n",
      "3.5M\tdata/nfip-claims-nyc.parquet\r\n"
     ]
    }
   ],
   "source": [
    "# preview size of file\n",
    "!du -sh data/* | sort -rh"
   ]
  },
  {
   "cell_type": "code",
   "execution_count": 28,
   "id": "7e78889f",
   "metadata": {},
   "outputs": [
    {
     "data": {
      "text/plain": [
       "┌───────┐\n",
       "│ count │\n",
       "│ int64 │\n",
       "├───────┤\n",
       "│ 43978 │\n",
       "└───────┘"
      ]
     },
     "execution_count": 28,
     "metadata": {},
     "output_type": "execute_result"
    }
   ],
   "source": [
    "# sanity check on exported Parquet file\n",
    "sql = \"\"\"\n",
    "    SELECT COUNT(*) AS count\n",
    "    FROM read_parquet('data/nfip-claims-nyc.parquet');\n",
    "\"\"\"\n",
    "\n",
    "duckdb.sql(sql)"
   ]
  },
  {
   "cell_type": "markdown",
   "id": "53b49066",
   "metadata": {},
   "source": [
    "# Create Policies Table using DuckDB\n",
    "We perform the same workflow as the Claims dataset but with Policies data."
   ]
  },
  {
   "cell_type": "code",
   "execution_count": 29,
   "id": "64b04442",
   "metadata": {},
   "outputs": [
    {
     "data": {
      "text/plain": [
       "┌──────────────────────┬────────────────────┬──────────────────────┬───┬──────────┬───────────┬──────────────────────┐\n",
       "│ agricultureStructu…  │ baseFloodElevation │ basementEnclosureC…  │ … │ latitude │ longitude │          id          │\n",
       "│       boolean        │       double       │        int64         │   │  double  │  double   │         uuid         │\n",
       "├──────────────────────┼────────────────────┼──────────────────────┼───┼──────────┼───────────┼──────────────────────┤\n",
       "│ false                │               13.0 │                    0 │ … │     40.8 │     -73.8 │ c4b3dc22-1f60-4d08…  │\n",
       "│ false                │               NULL │                 NULL │ … │     40.9 │     -73.8 │ e4f4f206-5a14-46e9…  │\n",
       "│ false                │               NULL │                    1 │ … │     40.8 │     -73.9 │ 93f58e3e-f563-4587…  │\n",
       "│ false                │               NULL │                    2 │ … │     40.8 │     -73.8 │ d4a416b2-f4ad-4cfb…  │\n",
       "│ false                │               NULL │                    1 │ … │     40.8 │     -73.8 │ 1eda7965-e3ae-4caa…  │\n",
       "├──────────────────────┴────────────────────┴──────────────────────┴───┴──────────┴───────────┴──────────────────────┤\n",
       "│ 5 rows                                                                                        81 columns (6 shown) │\n",
       "└────────────────────────────────────────────────────────────────────────────────────────────────────────────────────┘"
      ]
     },
     "execution_count": 29,
     "metadata": {},
     "output_type": "execute_result"
    }
   ],
   "source": [
    "# create a DuckDB database instance\n",
    "con = duckdb.connect()\n",
    "\n",
    "# create table policies of dataset\n",
    "con.execute(\"\"\"\n",
    "    CREATE TABLE policies AS\n",
    "        FROM read_json('data/policies-*.json')\n",
    "\"\"\")\n",
    "\n",
    "# sanity check, first five rows\n",
    "sql = \"\"\"\n",
    "    SELECT *\n",
    "    FROM policies\n",
    "    LIMIT 5\n",
    "\"\"\"\n",
    "\n",
    "con.sql(sql)"
   ]
  },
  {
   "cell_type": "code",
   "execution_count": 30,
   "id": "c46dac82",
   "metadata": {},
   "outputs": [
    {
     "data": {
      "text/plain": [
       "┌────────┐\n",
       "│ count  │\n",
       "│ int64  │\n",
       "├────────┤\n",
       "│ 548267 │\n",
       "└────────┘"
      ]
     },
     "execution_count": 30,
     "metadata": {},
     "output_type": "execute_result"
    }
   ],
   "source": [
    "# sanity check, number of rows\n",
    "sql = \"\"\"\n",
    "    SELECT COUNT(*) AS count\n",
    "    FROM policies\n",
    "\"\"\"\n",
    "\n",
    "con.sql(sql)"
   ]
  },
  {
   "cell_type": "markdown",
   "id": "38ec5fee",
   "metadata": {},
   "source": [
    "# Write Out Policies as Parquet"
   ]
  },
  {
   "cell_type": "code",
   "execution_count": 31,
   "id": "839ca39e",
   "metadata": {},
   "outputs": [],
   "source": [
    "# copy to a Parquet file\n",
    "sql = \"\"\"\n",
    "    COPY (SELECT * FROM policies)\n",
    "    TO 'data/nfip-policies-nyc.parquet'\n",
    "\"\"\"\n",
    "\n",
    "con.sql(sql)      "
   ]
  },
  {
   "cell_type": "code",
   "execution_count": 32,
   "id": "3059ab28",
   "metadata": {},
   "outputs": [
    {
     "name": "stdout",
     "output_type": "stream",
     "text": [
      "614M\tdata/policies-36081.json\r\n",
      "421M\tdata/policies-36047.json\r\n",
      "290M\tdata/policies-36085.json\r\n",
      "104M\tdata/policies-36061.json\r\n",
      " 98M\tdata/policies-36005.json\r\n",
      " 48M\tdata/claims-36085.json\r\n",
      " 37M\tdata/nfip-policies-nyc.parquet\r\n",
      " 37M\tdata/claims-36081.json\r\n",
      " 16M\tdata/claims-36047.json\r\n",
      "4.8M\tdata/claims-36005.json\r\n",
      "3.7M\tdata/claims-36061.json\r\n",
      "3.5M\tdata/nfip-claims-nyc.parquet\r\n"
     ]
    }
   ],
   "source": [
    "# preview size of file\n",
    "!du -sh data/* | sort -rh"
   ]
  },
  {
   "cell_type": "code",
   "execution_count": 33,
   "id": "8154f093",
   "metadata": {},
   "outputs": [
    {
     "data": {
      "text/plain": [
       "┌────────┐\n",
       "│ count  │\n",
       "│ int64  │\n",
       "├────────┤\n",
       "│ 548267 │\n",
       "└────────┘"
      ]
     },
     "execution_count": 33,
     "metadata": {},
     "output_type": "execute_result"
    }
   ],
   "source": [
    "# sanity check on exported Parquet file\n",
    "sql = \"\"\"\n",
    "    SELECT COUNT(*) AS count\n",
    "    FROM read_parquet('data/nfip-policies-nyc.parquet');\n",
    "\"\"\"\n",
    "\n",
    "duckdb.sql(sql)"
   ]
  },
  {
   "cell_type": "code",
   "execution_count": null,
   "id": "d018dfe8",
   "metadata": {},
   "outputs": [],
   "source": []
  }
 ],
 "metadata": {
  "kernelspec": {
   "display_name": "Python 3 (ipykernel)",
   "language": "python",
   "name": "python3"
  },
  "language_info": {
   "codemirror_mode": {
    "name": "ipython",
    "version": 3
   },
   "file_extension": ".py",
   "mimetype": "text/x-python",
   "name": "python",
   "nbconvert_exporter": "python",
   "pygments_lexer": "ipython3",
   "version": "3.11.0"
  }
 },
 "nbformat": 4,
 "nbformat_minor": 5
}
