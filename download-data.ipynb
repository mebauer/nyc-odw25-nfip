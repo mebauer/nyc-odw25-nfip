{
 "cells": [
  {
   "cell_type": "markdown",
   "id": "0b49f6ee",
   "metadata": {},
   "source": [
    "# Download NFIP Redacted Claims Data for New York City from OpenFEMA"
   ]
  },
  {
   "cell_type": "markdown",
   "id": "e5981873",
   "metadata": {},
   "source": [
    "# Objective\n",
    "\n",
    "This notebook demonstrates the following:\n",
    "\n",
    "- Downloading the [NFIP Redacted Claims](https://www.fema.gov/openfema-data-page/fima-nfip-redacted-claims-v2) data from [OpenFEMA](https://www.fema.gov/about/reports-and-data/openfema)\n",
    "- Working with [Parquet](https://parquet.apache.org/) files using [DuckDB](https://duckdb.org/)\n",
    "- Conducting basic exploratory data analysis (EDA) with DuckDB\n",
    "- Filtering and writing out records specific to New York City\n",
    "\n",
    "While the [OpenFEMA API](https://www.fema.gov/about/openfema/api) offers a method to [page through large datasets](https://www.fema.gov/about/openfema/working-with-large-data-sets) (e.g., [NFIP Redacted Policies](https://www.fema.gov/openfema-data-page/fima-nfip-redacted-policies-v2)), which is ideal for cases where you don't want to download the entire dataset locally, the size of the NFIP Redacted Claims dataset allows us to download the full Parquet file. For this analysis, we use DuckDB to efficiently filter and write out only the records relevant to New York City, saving both Parquet and CSV formats.\n",
    "\n",
    "Note: Due to GitHub's file size limitations, the full NFIP Redacted Claims dataset is excluded from this repository."
   ]
  },
  {
   "cell_type": "code",
   "execution_count": 1,
   "id": "05d1f78f",
   "metadata": {},
   "outputs": [],
   "source": [
    "# import libraries\n",
    "import requests\n",
    "from bs4 import BeautifulSoup\n",
    "import csv\n",
    "from datetime import datetime\n",
    "import duckdb"
   ]
  },
  {
   "cell_type": "code",
   "execution_count": 2,
   "id": "d0112939",
   "metadata": {},
   "outputs": [
    {
     "name": "stdout",
     "output_type": "stream",
     "text": [
      "Python implementation: CPython\n",
      "Python version       : 3.11.0\n",
      "IPython version      : 8.6.0\n",
      "\n",
      "requests: 2.28.1\n",
      "duckdb  : 1.0.0\n",
      "\n"
     ]
    }
   ],
   "source": [
    "# reproducibility\n",
    "%reload_ext watermark\n",
    "%watermark -v -p requests,duckdb"
   ]
  },
  {
   "cell_type": "code",
   "execution_count": 3,
   "id": "642b1e30",
   "metadata": {},
   "outputs": [
    {
     "name": "stdout",
     "output_type": "stream",
     "text": [
      "The data was retrieved on 2025-03-15.\n"
     ]
    }
   ],
   "source": [
    "# data retrieved\n",
    "current_date = datetime.now()\n",
    "print(f\"The data was retrieved on {current_date.strftime('%Y-%m-%d')}.\")"
   ]
  },
  {
   "cell_type": "markdown",
   "id": "758ef554",
   "metadata": {},
   "source": [
    "# Getting Started: OpenFEMA\n",
    "- [OpenFEMA](https://www.fema.gov/about/reports-and-data/openfema): The public’s resource for FEMA program data. Promoting a culture of Open Government and increasing transparency, participation, and collaboration among the Whole Community in support of FEMA's mission to help people before, during, and after disasters.\n",
    "\n",
    "\n",
    "- [OpenFEMA Developer Resources](https://www.fema.gov/about/openfema/developer-resources): Welcome to the OpenFEMA Developer Resources page, devoted to providing additional development information regarding our Application Programming Interface (API) for use in your applications and mashups.  The API is free of charge and does not currently have user registration requirements.\n",
    "\n",
    "\n",
    "- [OpenFEMA API Documentation](https://www.fema.gov/about/openfema/api): As part of the OpenFEMA initiative, FEMA is providing read-only API based access to datasets (Entities). The data is exposed using a RESTful interface that uses query string parameters to manage the query. Use of the service is free and does not require a subscription or API key.\n",
    "\n",
    "\n",
    "- [OpenFEMA Terms and Conditions](https://www.fema.gov/about/openfema/terms-conditions): Respect the OpenFEMA API and content on this website. Use the Site in a lawful manner. Do not modify the Site or attempt to use it to publish or transmit malicious software or content. FEMA shall not be liable for any damages resulting from the use of this website, API services, or content. Do not attempt to reidentify the individuals whose data may be aggregated. We may suspend your access to this website if we feel you have not complied with these terms and conditions.."
   ]
  },
  {
   "cell_type": "markdown",
   "id": "152772a2",
   "metadata": {},
   "source": [
    "# OpenFEMA Dataset: FIMA NFIP Redacted Claims - v2\n",
    "\n",
    "[OpenFEMA Dataset: FIMA NFIP Redacted Claims - v2](https://www.fema.gov/openfema-data-page/fima-nfip-redacted-claims-v2): Congress passed the National Flood Insurance Act (NFIA), 42 U.S.C. 4001 in 1968, creating the National Flood Insurance Program (NFIP) in order to reduce future flood losses through flood hazard identification, floodplain management, and providing insurance protection. This dataset provides details on NFIP claims transactions. It is derived from the NFIP system of record, staged in the NFIP reporting platform and redacted to protect policy holder personally identifiable information."
   ]
  },
  {
   "cell_type": "markdown",
   "id": "dd9097ed",
   "metadata": {},
   "source": []
  },
  {
   "cell_type": "markdown",
   "id": "0b960b1c",
   "metadata": {},
   "source": [
    "![dataset-page](images/dataset-page.png)\n",
    "\n",
    "Screenshot of NFIP Redacted Claims dataset page."
   ]
  },
  {
   "cell_type": "markdown",
   "id": "2975194c",
   "metadata": {},
   "source": [
    "# How To Download: Dataset Download Link\n",
    "Right-click the *Link to parquet* address, and select *Copy Link Address*."
   ]
  },
  {
   "cell_type": "markdown",
   "id": "9f89638e",
   "metadata": {},
   "source": [
    "![dataset-page](images/download-link.png)\n",
    "\n",
    "Screenshot of Parquet download link."
   ]
  },
  {
   "cell_type": "markdown",
   "id": "36404736",
   "metadata": {},
   "source": [
    "# Download Data Dictionary"
   ]
  },
  {
   "cell_type": "code",
   "execution_count": 4,
   "id": "52065e16",
   "metadata": {},
   "outputs": [
    {
     "name": "stdout",
     "output_type": "stream",
     "text": [
      "data dictionary has been written.\n"
     ]
    }
   ],
   "source": [
    "# URL of the page containing the table\n",
    "url = 'https://www.fema.gov/openfema-data-page/fima-nfip-redacted-claims-v2'\n",
    "\n",
    "# Request the page content\n",
    "response = requests.get(url)\n",
    "soup = BeautifulSoup(response.content, 'html.parser')\n",
    "\n",
    "# Find the third table with the 'usa-table' class\n",
    "table = soup.find_all('table', class_='usa-table')[2]  # index 2 for the third table\n",
    "\n",
    "# Extract table headers\n",
    "headers = [header.text.strip() for header in table.find_all('th')]\n",
    "\n",
    "# Extract table rows\n",
    "rows = []\n",
    "for row in table.find_all('tr')[1:]:  # Skip the header row\n",
    "    cells = row.find_all('td')\n",
    "    if cells:\n",
    "        row_data = [cell.text.strip() for cell in cells]\n",
    "        rows.append(row_data)\n",
    "\n",
    "# Write to CSV file\n",
    "with open('data-dictionary.csv', 'w', newline='', encoding='utf-8') as file:\n",
    "    writer = csv.writer(file)\n",
    "    writer.writerow(headers)  # Write header\n",
    "    writer.writerows(rows)    # Write data rows\n",
    "\n",
    "print(\"data dictionary has been written.\")"
   ]
  },
  {
   "cell_type": "markdown",
   "id": "3e4e587c",
   "metadata": {},
   "source": [
    "# Download Full Data as Parquet file\n",
    "This code downloads the NFIP Claims Parquet file from a specified URL and saves it to a local directory."
   ]
  },
  {
   "cell_type": "code",
   "execution_count": 5,
   "id": "c2db9057",
   "metadata": {},
   "outputs": [
    {
     "name": "stdout",
     "output_type": "stream",
     "text": [
      "File downloaded successfully.\n"
     ]
    }
   ],
   "source": [
    "# URL of the Parquet file to download\n",
    "url = \"https://www.fema.gov/about/reports-and-data/openfema/FimaNfipClaims.parquet\"\n",
    "\n",
    "# specify the file path where you want to save the downloaded file\n",
    "file_path = \"data/FimaNfipClaims.parquet\"\n",
    "\n",
    "# send an HTTP GET request to the URL\n",
    "response = requests.get(url)\n",
    "\n",
    "# check if the request was successful (status code 200)\n",
    "if response.status_code == 200:\n",
    "    \n",
    "    # write the content of the response to a file\n",
    "    with open(file_path, 'wb') as file:\n",
    "        file.write(response.content)\n",
    "    print(\"File downloaded successfully.\")\n",
    "    \n",
    "else:\n",
    "    print(\"Failed to download file.\")"
   ]
  },
  {
   "cell_type": "code",
   "execution_count": 6,
   "id": "80cc5ba4",
   "metadata": {},
   "outputs": [
    {
     "name": "stdout",
     "output_type": "stream",
     "text": [
      "FimaNfipClaims.parquet\r\n"
     ]
    }
   ],
   "source": [
    "# sanity check: preview file name in data/ folder\n",
    "%ls data/"
   ]
  },
  {
   "cell_type": "code",
   "execution_count": 7,
   "id": "5bc4a8d7",
   "metadata": {},
   "outputs": [
    {
     "name": "stdout",
     "output_type": "stream",
     "text": [
      "151M\tdata/FimaNfipClaims.parquet\r\n"
     ]
    }
   ],
   "source": [
    "# preview size of file\n",
    "!du -sh data/* | sort -rh"
   ]
  },
  {
   "cell_type": "markdown",
   "id": "bb6576cb",
   "metadata": {},
   "source": [
    "# Utilize DuckDB to Interact with NFIP Claims Data"
   ]
  },
  {
   "cell_type": "code",
   "execution_count": 9,
   "id": "598ea010",
   "metadata": {},
   "outputs": [
    {
     "data": {
      "text/plain": [
       "┌──────────────────────┬──────────────────────┬───┬──────────────┬──────────────┬──────────────────────┐\n",
       "│ agricultureStructu…  │       asOfDate       │ … │   latitude   │  longitude   │          id          │\n",
       "│       boolean        │ timestamp with tim…  │   │ decimal(9,1) │ decimal(9,1) │         uuid         │\n",
       "├──────────────────────┼──────────────────────┼───┼──────────────┼──────────────┼──────────────────────┤\n",
       "│ false                │ 2020-12-11 11:25:4…  │ … │         30.3 │        -87.7 │ 11ccaba6-1fd2-45e7…  │\n",
       "│ false                │ 2020-11-13 09:50:3…  │ … │         30.3 │        -87.7 │ b70a2032-8741-4995…  │\n",
       "│ false                │ 2020-03-27 08:15:4…  │ … │         33.5 │       -112.1 │ 1d3954b2-a77f-49b4…  │\n",
       "│ false                │ 2020-03-27 08:15:4…  │ … │         33.5 │       -112.1 │ 6782824b-6c87-4215…  │\n",
       "│ false                │ 2020-03-26 08:56:2…  │ … │         34.4 │       -119.6 │ d8a6689f-3e3a-4256…  │\n",
       "├──────────────────────┴──────────────────────┴───┴──────────────┴──────────────┴──────────────────────┤\n",
       "│ 5 rows                                                                          73 columns (5 shown) │\n",
       "└──────────────────────────────────────────────────────────────────────────────────────────────────────┘"
      ]
     },
     "execution_count": 9,
     "metadata": {},
     "output_type": "execute_result"
    }
   ],
   "source": [
    "# create a DuckDB database instance\n",
    "con = duckdb.connect()\n",
    "\n",
    "# create table claims of dataset\n",
    "con.execute(\"\"\"\n",
    "    CREATE TABLE claims AS\n",
    "        FROM read_parquet('data/FimaNfipClaims.parquet')\n",
    "\"\"\")\n",
    "\n",
    "# sanity check\n",
    "sql = \"\"\"\n",
    "    SELECT *\n",
    "    FROM claims\n",
    "    LIMIT 5\n",
    "\"\"\"\n",
    "\n",
    "con.sql(sql)"
   ]
  },
  {
   "cell_type": "code",
   "execution_count": 10,
   "id": "e10ae579",
   "metadata": {},
   "outputs": [
    {
     "data": {
      "text/plain": [
       "┌─────────┐\n",
       "│  count  │\n",
       "│  int64  │\n",
       "├─────────┤\n",
       "│ 2707173 │\n",
       "└─────────┘"
      ]
     },
     "execution_count": 10,
     "metadata": {},
     "output_type": "execute_result"
    }
   ],
   "source": [
    "# sanity check\n",
    "sql = \"\"\"\n",
    "    SELECT COUNT(*) AS count\n",
    "    FROM claims\n",
    "\"\"\"\n",
    "\n",
    "con.sql(sql)"
   ]
  },
  {
   "cell_type": "code",
   "execution_count": 11,
   "id": "559c80ff",
   "metadata": {},
   "outputs": [
    {
     "data": {
      "text/plain": [
       "┌───────────────┐\n",
       "│ count_columns │\n",
       "│     int64     │\n",
       "├───────────────┤\n",
       "│            73 │\n",
       "└───────────────┘"
      ]
     },
     "execution_count": 11,
     "metadata": {},
     "output_type": "execute_result"
    }
   ],
   "source": [
    "# sanity check\n",
    "sql = \"\"\"\n",
    "    SELECT\n",
    "        COUNT(column_name) AS count_columns\n",
    "    FROM\n",
    "        (DESCRIBE FROM claims)\n",
    "\"\"\"\n",
    "\n",
    "con.sql(sql)"
   ]
  },
  {
   "cell_type": "code",
   "execution_count": 12,
   "id": "4d445243",
   "metadata": {},
   "outputs": [
    {
     "data": {
      "text/plain": [
       "┌───────────────────────────────┐\n",
       "│           asOfDate            │\n",
       "│   timestamp with time zone    │\n",
       "├───────────────────────────────┤\n",
       "│ 2025-03-10 12:21:38.590949-04 │\n",
       "└───────────────────────────────┘"
      ]
     },
     "execution_count": 12,
     "metadata": {},
     "output_type": "execute_result"
    }
   ],
   "source": [
    "# sanity check\n",
    "sql = \"\"\"\n",
    "    SELECT\n",
    "        asOfDate\n",
    "    FROM\n",
    "        claims\n",
    "    ORDER BY\n",
    "        asOfDate DESC\n",
    "    LIMIT 1\n",
    "\"\"\"\n",
    "\n",
    "con.sql(sql)"
   ]
  },
  {
   "cell_type": "code",
   "execution_count": 13,
   "id": "4043bbfe",
   "metadata": {},
   "outputs": [
    {
     "name": "stdout",
     "output_type": "stream",
     "text": [
      "┌────────────────────────────────────────────┬──────────────────────────┐\n",
      "│                column_name                 │       column_type        │\n",
      "│                  varchar                   │         varchar          │\n",
      "├────────────────────────────────────────────┼──────────────────────────┤\n",
      "│ agricultureStructureIndicator              │ BOOLEAN                  │\n",
      "│ asOfDate                                   │ TIMESTAMP WITH TIME ZONE │\n",
      "│ basementEnclosureCrawlspaceType            │ SMALLINT                 │\n",
      "│ policyCount                                │ SMALLINT                 │\n",
      "│ crsClassificationCode                      │ SMALLINT                 │\n",
      "│ dateOfLoss                                 │ DATE                     │\n",
      "│ elevatedBuildingIndicator                  │ BOOLEAN                  │\n",
      "│ elevationCertificateIndicator              │ VARCHAR                  │\n",
      "│ elevationDifference                        │ DECIMAL(6,1)             │\n",
      "│ baseFloodElevation                         │ DECIMAL(6,1)             │\n",
      "│ ratedFloodZone                             │ VARCHAR                  │\n",
      "│ houseWorship                               │ BOOLEAN                  │\n",
      "│ locationOfContents                         │ SMALLINT                 │\n",
      "│ lowestAdjacentGrade                        │ DECIMAL(6,1)             │\n",
      "│ lowestFloorElevation                       │ DECIMAL(6,1)             │\n",
      "│ numberOfFloorsInTheInsuredBuilding         │ SMALLINT                 │\n",
      "│ nonProfitIndicator                         │ BOOLEAN                  │\n",
      "│ obstructionType                            │ SMALLINT                 │\n",
      "│ occupancyType                              │ SMALLINT                 │\n",
      "│ originalConstructionDate                   │ DATE                     │\n",
      "│ originalNBDate                             │ DATE                     │\n",
      "│ amountPaidOnBuildingClaim                  │ DECIMAL(12,2)            │\n",
      "│ amountPaidOnContentsClaim                  │ DECIMAL(12,2)            │\n",
      "│ amountPaidOnIncreasedCostOfComplianceClaim │ DECIMAL(12,2)            │\n",
      "│ postFIRMConstructionIndicator              │ BOOLEAN                  │\n",
      "│ rateMethod                                 │ VARCHAR                  │\n",
      "│ smallBusinessIndicatorBuilding             │ BOOLEAN                  │\n",
      "│ totalBuildingInsuranceCoverage             │ BIGINT                   │\n",
      "│ totalContentsInsuranceCoverage             │ BIGINT                   │\n",
      "│ yearOfLoss                                 │ SMALLINT                 │\n",
      "│ primaryResidenceIndicator                  │ BOOLEAN                  │\n",
      "│ buildingDamageAmount                       │ BIGINT                   │\n",
      "│ buildingDeductibleCode                     │ VARCHAR                  │\n",
      "│ netBuildingPaymentAmount                   │ DECIMAL(12,2)            │\n",
      "│ buildingPropertyValue                      │ BIGINT                   │\n",
      "│ causeOfDamage                              │ VARCHAR                  │\n",
      "│ condominiumCoverageTypeCode                │ VARCHAR                  │\n",
      "│ contentsDamageAmount                       │ BIGINT                   │\n",
      "│ contentsDeductibleCode                     │ VARCHAR                  │\n",
      "│ netContentsPaymentAmount                   │ DECIMAL(12,2)            │\n",
      "│ contentsPropertyValue                      │ BIGINT                   │\n",
      "│ disasterAssistanceCoverageRequired         │ SMALLINT                 │\n",
      "│ eventDesignationNumber                     │ VARCHAR                  │\n",
      "│ ficoNumber                                 │ SMALLINT                 │\n",
      "│ floodCharacteristicsIndicator              │ SMALLINT                 │\n",
      "│ floodWaterDuration                         │ SMALLINT                 │\n",
      "│ floodproofedIndicator                      │ BOOLEAN                  │\n",
      "│ floodEvent                                 │ VARCHAR                  │\n",
      "│ iccCoverage                                │ INTEGER                  │\n",
      "│ netIccPaymentAmount                        │ DECIMAL(8,2)             │\n",
      "│ nfipRatedCommunityNumber                   │ VARCHAR                  │\n",
      "│ nfipCommunityNumberCurrent                 │ VARCHAR                  │\n",
      "│ nfipCommunityName                          │ VARCHAR                  │\n",
      "│ nonPaymentReasonContents                   │ VARCHAR                  │\n",
      "│ nonPaymentReasonBuilding                   │ VARCHAR                  │\n",
      "│ numberOfUnits                              │ INTEGER                  │\n",
      "│ buildingReplacementCost                    │ BIGINT                   │\n",
      "│ contentsReplacementCost                    │ BIGINT                   │\n",
      "│ replacementCostBasis                       │ VARCHAR                  │\n",
      "│ stateOwnedIndicator                        │ BOOLEAN                  │\n",
      "│ waterDepth                                 │ SMALLINT                 │\n",
      "│ floodZoneCurrent                           │ VARCHAR                  │\n",
      "│ buildingDescriptionCode                    │ SMALLINT                 │\n",
      "│ rentalPropertyIndicator                    │ BOOLEAN                  │\n",
      "│ state                                      │ VARCHAR                  │\n",
      "│ reportedCity                               │ VARCHAR                  │\n",
      "│ reportedZipCode                            │ VARCHAR                  │\n",
      "│ countyCode                                 │ VARCHAR                  │\n",
      "│ censusTract                                │ VARCHAR                  │\n",
      "│ censusBlockGroupFips                       │ VARCHAR                  │\n",
      "│ latitude                                   │ DECIMAL(9,1)             │\n",
      "│ longitude                                  │ DECIMAL(9,1)             │\n",
      "│ id                                         │ UUID                     │\n",
      "├────────────────────────────────────────────┴──────────────────────────┤\n",
      "│ 73 rows                                                     2 columns │\n",
      "└───────────────────────────────────────────────────────────────────────┘\n",
      "\n"
     ]
    }
   ],
   "source": [
    "# sanity check\n",
    "sql = \"\"\"\n",
    "    SELECT\n",
    "        column_name,\n",
    "        column_type\n",
    "    FROM\n",
    "        (DESCRIBE claims)\n",
    "\"\"\"\n",
    "\n",
    "con.sql(sql).show(max_rows=80)"
   ]
  },
  {
   "cell_type": "code",
   "execution_count": 14,
   "id": "611be770",
   "metadata": {},
   "outputs": [
    {
     "name": "stdout",
     "output_type": "stream",
     "text": [
      "┌────────────────────────────────────────────┬─────────────────┐\n",
      "│                column_name                 │ null_percentage │\n",
      "│                  varchar                   │  decimal(9,2)   │\n",
      "├────────────────────────────────────────────┼─────────────────┤\n",
      "│ floodCharacteristicsIndicator              │           98.53 │\n",
      "│ eventDesignationNumber                     │           93.23 │\n",
      "│ lowestAdjacentGrade                        │           81.09 │\n",
      "│ crsClassificationCode                      │           79.69 │\n",
      "│ nonPaymentReasonBuilding                   │           77.94 │\n",
      "│ elevationCertificateIndicator              │           77.91 │\n",
      "│ lowestFloorElevation                       │           76.35 │\n",
      "│ baseFloodElevation                         │           75.66 │\n",
      "│ elevationDifference                        │           72.94 │\n",
      "│ floodZoneCurrent                           │           71.75 │\n",
      "│ nfipCommunityNumberCurrent                 │           71.70 │\n",
      "│ basementEnclosureCrawlspaceType            │           69.83 │\n",
      "│ nfipCommunityName                          │           69.83 │\n",
      "│ nonPaymentReasonContents                   │           68.60 │\n",
      "│ buildingDescriptionCode                    │           64.03 │\n",
      "│ contentsReplacementCost                    │           58.66 │\n",
      "│ contentsDamageAmount                       │           58.63 │\n",
      "│ contentsPropertyValue                      │           58.63 │\n",
      "│ obstructionType                            │           44.24 │\n",
      "│ ficoNumber                                 │           36.12 │\n",
      "│ iccCoverage                                │           35.95 │\n",
      "│ locationOfContents                         │           33.80 │\n",
      "│ floodEvent                                 │           28.19 │\n",
      "│ buildingDamageAmount                       │           22.23 │\n",
      "│ buildingPropertyValue                      │           22.23 │\n",
      "│ buildingReplacementCost                    │           22.23 │\n",
      "│ amountPaidOnBuildingClaim                  │           20.96 │\n",
      "│ amountPaidOnContentsClaim                  │           20.96 │\n",
      "│ amountPaidOnIncreasedCostOfComplianceClaim │           20.96 │\n",
      "│ contentsDeductibleCode                     │           20.70 │\n",
      "│ disasterAssistanceCoverageRequired         │           14.29 │\n",
      "│ buildingDeductibleCode                     │           11.64 │\n",
      "│ floodWaterDuration                         │           10.11 │\n",
      "│ waterDepth                                 │            8.72 │\n",
      "│ replacementCostBasis                       │            7.25 │\n",
      "│ ratedFloodZone                             │            5.14 │\n",
      "│ censusTract                                │            5.09 │\n",
      "│ censusBlockGroupFips                       │            5.09 │\n",
      "│ countyCode                                 │            2.29 │\n",
      "│ rateMethod                                 │            1.83 │\n",
      "│ latitude                                   │            1.52 │\n",
      "│ longitude                                  │            1.52 │\n",
      "│ causeOfDamage                              │            1.40 │\n",
      "│ condominiumCoverageTypeCode                │            1.38 │\n",
      "│ numberOfFloorsInTheInsuredBuilding         │            0.64 │\n",
      "│ numberOfUnits                              │            0.10 │\n",
      "│ originalConstructionDate                   │            0.07 │\n",
      "│ occupancyType                              │            0.02 │\n",
      "├────────────────────────────────────────────┴─────────────────┤\n",
      "│ 48 rows                                            2 columns │\n",
      "└──────────────────────────────────────────────────────────────┘\n",
      "\n"
     ]
    }
   ],
   "source": [
    "# sanity check\n",
    "sql = \"\"\"\n",
    "    SELECT\n",
    "        column_name,\n",
    "        null_percentage\n",
    "    FROM\n",
    "        (SUMMARIZE FROM claims)\n",
    "    WHERE\n",
    "        null_percentage > 0\n",
    "    ORDER BY\n",
    "        null_percentage DESC\n",
    "\"\"\"\n",
    "\n",
    "con.sql(sql).show(max_rows=80)"
   ]
  },
  {
   "cell_type": "markdown",
   "id": "53b49066",
   "metadata": {},
   "source": [
    "# Retrieve NFIP Claims for New York City"
   ]
  },
  {
   "cell_type": "markdown",
   "id": "368de389",
   "metadata": {},
   "source": [
    "The FIPS codes for New York City boroughs are:  \n",
    "- Bronx: 36005\n",
    "- Brooklyn: 36047\n",
    "- Manhattan: 36061\n",
    "- Queens: 36081\n",
    "- Staten Island: 36085"
   ]
  },
  {
   "cell_type": "code",
   "execution_count": 15,
   "id": "e5544213",
   "metadata": {},
   "outputs": [
    {
     "data": {
      "text/plain": [
       "┌────────────┐\n",
       "│ countyCode │\n",
       "│  varchar   │\n",
       "├────────────┤\n",
       "│ 01003      │\n",
       "│ 01003      │\n",
       "│ 04013      │\n",
       "│ 04013      │\n",
       "│ 06083      │\n",
       "│ 09001      │\n",
       "│ 12113      │\n",
       "│ 12021      │\n",
       "│ 12113      │\n",
       "│ 12086      │\n",
       "├────────────┤\n",
       "│  10 rows   │\n",
       "└────────────┘"
      ]
     },
     "execution_count": 15,
     "metadata": {},
     "output_type": "execute_result"
    }
   ],
   "source": [
    "# sanity check\n",
    "sql = \"\"\"\n",
    "    SELECT countyCode\n",
    "    FROM claims\n",
    "    LIMIT 10\n",
    "\"\"\"\n",
    "\n",
    "con.sql(sql)"
   ]
  },
  {
   "cell_type": "code",
   "execution_count": 16,
   "id": "f7c78aa7",
   "metadata": {},
   "outputs": [
    {
     "data": {
      "text/plain": [
       "┌────────────┬───────┐\n",
       "│ countyCode │ count │\n",
       "│  varchar   │ int64 │\n",
       "├────────────┼───────┤\n",
       "│ 36085      │ 19414 │\n",
       "│ 36081      │ 14873 │\n",
       "│ 36047      │  6264 │\n",
       "│ 36005      │  1942 │\n",
       "│ 36061      │  1485 │\n",
       "└────────────┴───────┘"
      ]
     },
     "execution_count": 16,
     "metadata": {},
     "output_type": "execute_result"
    }
   ],
   "source": [
    "# sanity check\n",
    "sql = \"\"\"\n",
    "    SELECT\n",
    "        countyCode,\n",
    "        COUNT(*) AS count\n",
    "    FROM\n",
    "        claims\n",
    "    WHERE\n",
    "        countyCode in ('36005', '36047', '36061', '36081', '36085')\n",
    "    GROUP BY\n",
    "        countyCode\n",
    "    ORDER BY\n",
    "        count DESC\n",
    "        \n",
    "\"\"\"\n",
    "\n",
    "con.sql(sql)"
   ]
  },
  {
   "cell_type": "code",
   "execution_count": 17,
   "id": "0ea0cafe",
   "metadata": {},
   "outputs": [
    {
     "name": "stdout",
     "output_type": "stream",
     "text": [
      "┌──────────────────────┬──────────────────────┬───┬──────────────┬──────────────┬──────────────────────┐\n",
      "│ agricultureStructu…  │       asOfDate       │ … │   latitude   │  longitude   │          id          │\n",
      "│       boolean        │ timestamp with tim…  │   │ decimal(9,1) │ decimal(9,1) │         uuid         │\n",
      "├──────────────────────┼──────────────────────┼───┼──────────────┼──────────────┼──────────────────────┤\n",
      "│ false                │ 2024-06-02 14:37:4…  │ … │         40.6 │        -73.8 │ 12e0738f-f722-43fe…  │\n",
      "│ false                │ 2022-03-29 11:45:4…  │ … │         40.6 │        -74.1 │ fca1a7b4-6a20-4f86…  │\n",
      "│ false                │ 2020-01-22 11:55:5…  │ … │         40.6 │        -74.1 │ abd59ea3-2dcf-4c6d…  │\n",
      "│   ·                  │          ·           │ · │           ·  │          ·   │          ·           │\n",
      "│   ·                  │          ·           │ · │           ·  │          ·   │          ·           │\n",
      "│   ·                  │          ·           │ · │           ·  │          ·   │          ·           │\n",
      "│ false                │ 2022-09-06 07:54:5…  │ … │         40.6 │        -74.0 │ 5d71a4fb-e19a-4d43…  │\n",
      "│ false                │ 2025-02-27 16:46:1…  │ … │         40.9 │        -73.8 │ f3a006e9-3090-40e4…  │\n",
      "├──────────────────────┴──────────────────────┴───┴──────────────┴──────────────┴──────────────────────┤\n",
      "│ ? rows (>9999 rows, 5 shown)                                                    73 columns (5 shown) │\n",
      "└──────────────────────────────────────────────────────────────────────────────────────────────────────┘\n",
      "\n"
     ]
    }
   ],
   "source": [
    "sql = \"\"\"\n",
    "    SELECT *\n",
    "    FROM claims\n",
    "    WHERE countyCode in (\n",
    "        '36005',\n",
    "        '36047',\n",
    "        '36061',\n",
    "        '36081',\n",
    "        '36085'\n",
    "    )    \n",
    "\"\"\"\n",
    "\n",
    "new_york_city = con.sql(sql)\n",
    "\n",
    "new_york_city.show(max_rows=5)"
   ]
  },
  {
   "cell_type": "markdown",
   "id": "933045ff",
   "metadata": {},
   "source": [
    "# Write out files as Parquet and CSV"
   ]
  },
  {
   "cell_type": "code",
   "execution_count": 18,
   "id": "abc588b3",
   "metadata": {},
   "outputs": [],
   "source": [
    "# copy to a Parquet file\n",
    "sql = \"\"\"\n",
    "    COPY (SELECT * FROM new_york_city)\n",
    "    TO 'data/nfip-claims-nyc.parquet'\n",
    "\"\"\"\n",
    "\n",
    "con.sql(sql)      "
   ]
  },
  {
   "cell_type": "code",
   "execution_count": 19,
   "id": "5234110b",
   "metadata": {},
   "outputs": [],
   "source": [
    "# copy to a CSV file\n",
    "sql = \"\"\"\n",
    "    COPY (SELECT * FROM new_york_city)\n",
    "    TO 'data/nfip-claims-nyc.csv'\n",
    "\"\"\"\n",
    "\n",
    "con.sql(sql)      "
   ]
  },
  {
   "cell_type": "code",
   "execution_count": 20,
   "id": "40d360f1",
   "metadata": {},
   "outputs": [
    {
     "name": "stdout",
     "output_type": "stream",
     "text": [
      "FimaNfipClaims.parquet   nfip-claims-nyc.csv      nfip-claims-nyc.parquet\r\n"
     ]
    }
   ],
   "source": [
    "# confirm download\n",
    "%ls data/"
   ]
  },
  {
   "cell_type": "code",
   "execution_count": 21,
   "id": "ecbbed93",
   "metadata": {},
   "outputs": [
    {
     "name": "stdout",
     "output_type": "stream",
     "text": [
      "151M\tdata/FimaNfipClaims.parquet\r\n",
      " 16M\tdata/nfip-claims-nyc.csv\r\n",
      "3.4M\tdata/nfip-claims-nyc.parquet\r\n"
     ]
    }
   ],
   "source": [
    "# preview size of file\n",
    "!du -sh data/* | sort -rh"
   ]
  },
  {
   "cell_type": "code",
   "execution_count": 22,
   "id": "77abbd9d",
   "metadata": {},
   "outputs": [
    {
     "data": {
      "text/plain": [
       "┌──────────────────────┬──────────────────────┬───┬──────────────┬──────────────┬──────────────────────┐\n",
       "│ agricultureStructu…  │       asOfDate       │ … │   latitude   │  longitude   │          id          │\n",
       "│       boolean        │ timestamp with tim…  │   │ decimal(9,1) │ decimal(9,1) │         uuid         │\n",
       "├──────────────────────┼──────────────────────┼───┼──────────────┼──────────────┼──────────────────────┤\n",
       "│ false                │ 2025-03-10 11:48:3…  │ … │         40.6 │        -73.8 │ fa4d480a-8be8-4dda…  │\n",
       "│ false                │ 2025-03-10 11:48:3…  │ … │         40.6 │        -73.8 │ 40e43084-68ea-439a…  │\n",
       "│ false                │ 2025-03-10 11:48:3…  │ … │         40.6 │        -73.8 │ df70fbd5-c7cf-4e15…  │\n",
       "│ false                │ 2025-03-10 10:43:5…  │ … │         40.6 │        -74.1 │ 3e4af504-2adb-4627…  │\n",
       "│ false                │ 2025-03-10 10:43:5…  │ … │         40.6 │        -74.1 │ 43d69c61-7f50-4e8a…  │\n",
       "│ false                │ 2025-03-10 06:17:1…  │ … │         40.6 │        -73.8 │ 0a8f5b08-2c7b-4925…  │\n",
       "│ false                │ 2025-03-08 08:22:4…  │ … │         40.6 │        -73.7 │ afd996f1-977f-424f…  │\n",
       "│ false                │ 2025-03-07 17:08:0…  │ … │         40.8 │        -73.8 │ e9c1f44e-36f7-4581…  │\n",
       "│ false                │ 2025-03-07 08:33:2…  │ … │         40.7 │        -74.0 │ 5f1033b3-a441-4a73…  │\n",
       "│ false                │ 2025-03-07 08:33:2…  │ … │         40.7 │        -74.0 │ 0bc3e3de-1fed-449d…  │\n",
       "├──────────────────────┴──────────────────────┴───┴──────────────┴──────────────┴──────────────────────┤\n",
       "│ 10 rows                                                                         73 columns (5 shown) │\n",
       "└──────────────────────────────────────────────────────────────────────────────────────────────────────┘"
      ]
     },
     "execution_count": 22,
     "metadata": {},
     "output_type": "execute_result"
    }
   ],
   "source": [
    "# sanity check on exported Parquet file\n",
    "sql = \"\"\"\n",
    "    SELECT *\n",
    "    FROM read_parquet('data/nfip-claims-nyc.parquet')\n",
    "    ORDER BY asOfDate DESC\n",
    "    LIMIT 10;\n",
    "\"\"\"\n",
    "\n",
    "duckdb.sql(sql)"
   ]
  },
  {
   "cell_type": "code",
   "execution_count": 23,
   "id": "ab6b20d8",
   "metadata": {},
   "outputs": [
    {
     "data": {
      "text/plain": [
       "┌──────────────────────┬──────────────────────┬──────────────────────┬───┬──────────┬───────────┬──────────────────────┐\n",
       "│ agricultureStructu…  │       asOfDate       │ basementEnclosureC…  │ … │ latitude │ longitude │          id          │\n",
       "│       boolean        │      timestamp       │        int64         │   │  double  │  double   │       varchar        │\n",
       "├──────────────────────┼──────────────────────┼──────────────────────┼───┼──────────┼───────────┼──────────────────────┤\n",
       "│ false                │ 2025-03-10 15:48:3…  │                    2 │ … │     40.6 │     -73.8 │ fa4d480a-8be8-4dda…  │\n",
       "│ false                │ 2025-03-10 15:48:3…  │                    2 │ … │     40.6 │     -73.8 │ 40e43084-68ea-439a…  │\n",
       "│ false                │ 2025-03-10 15:48:3…  │                    2 │ … │     40.6 │     -73.8 │ df70fbd5-c7cf-4e15…  │\n",
       "│ false                │ 2025-03-10 14:43:5…  │                    2 │ … │     40.6 │     -74.1 │ 3e4af504-2adb-4627…  │\n",
       "│ false                │ 2025-03-10 14:43:5…  │                    2 │ … │     40.6 │     -74.1 │ 43d69c61-7f50-4e8a…  │\n",
       "│ false                │ 2025-03-10 10:17:1…  │                    1 │ … │     40.6 │     -73.8 │ 0a8f5b08-2c7b-4925…  │\n",
       "│ false                │ 2025-03-08 13:22:4…  │                    2 │ … │     40.6 │     -73.7 │ afd996f1-977f-424f…  │\n",
       "│ false                │ 2025-03-07 22:08:0…  │                    1 │ … │     40.8 │     -73.8 │ e9c1f44e-36f7-4581…  │\n",
       "│ false                │ 2025-03-07 13:33:2…  │                    1 │ … │     40.7 │     -74.0 │ 5f1033b3-a441-4a73…  │\n",
       "│ false                │ 2025-03-07 13:33:2…  │                    1 │ … │     40.7 │     -74.0 │ 0bc3e3de-1fed-449d…  │\n",
       "├──────────────────────┴──────────────────────┴──────────────────────┴───┴──────────┴───────────┴──────────────────────┤\n",
       "│ 10 rows                                                                                         73 columns (6 shown) │\n",
       "└──────────────────────────────────────────────────────────────────────────────────────────────────────────────────────┘"
      ]
     },
     "execution_count": 23,
     "metadata": {},
     "output_type": "execute_result"
    }
   ],
   "source": [
    "# sanity check on exported CSV file\n",
    "sql = \"\"\"\n",
    "    SELECT *\n",
    "    FROM read_csv('data/nfip-claims-nyc.csv')\n",
    "    ORDER BY asOfDate DESC\n",
    "    LIMIT 10;\n",
    "\"\"\"\n",
    "\n",
    "duckdb.sql(sql)"
   ]
  },
  {
   "cell_type": "code",
   "execution_count": 24,
   "id": "7e78889f",
   "metadata": {},
   "outputs": [
    {
     "data": {
      "text/plain": [
       "┌───────┐\n",
       "│ count │\n",
       "│ int64 │\n",
       "├───────┤\n",
       "│ 43978 │\n",
       "└───────┘"
      ]
     },
     "execution_count": 24,
     "metadata": {},
     "output_type": "execute_result"
    }
   ],
   "source": [
    "# sanity check on exported Parquet file\n",
    "sql = \"\"\"\n",
    "    SELECT COUNT(*) AS count\n",
    "    FROM read_parquet('data/nfip-claims-nyc.parquet');\n",
    "\"\"\"\n",
    "\n",
    "duckdb.sql(sql)"
   ]
  },
  {
   "cell_type": "code",
   "execution_count": 25,
   "id": "946d618a",
   "metadata": {},
   "outputs": [
    {
     "data": {
      "text/plain": [
       "┌───────┐\n",
       "│ count │\n",
       "│ int64 │\n",
       "├───────┤\n",
       "│ 43978 │\n",
       "└───────┘"
      ]
     },
     "execution_count": 25,
     "metadata": {},
     "output_type": "execute_result"
    }
   ],
   "source": [
    "# sanity check on exported CSV file\n",
    "sql = \"\"\"\n",
    "    SELECT COUNT(*) AS count\n",
    "    FROM read_csv('data/nfip-claims-nyc.csv');\n",
    "\"\"\"\n",
    "\n",
    "duckdb.sql(sql)"
   ]
  },
  {
   "cell_type": "code",
   "execution_count": null,
   "id": "8154f093",
   "metadata": {},
   "outputs": [],
   "source": []
  }
 ],
 "metadata": {
  "kernelspec": {
   "display_name": "Python 3 (ipykernel)",
   "language": "python",
   "name": "python3"
  },
  "language_info": {
   "codemirror_mode": {
    "name": "ipython",
    "version": 3
   },
   "file_extension": ".py",
   "mimetype": "text/x-python",
   "name": "python",
   "nbconvert_exporter": "python",
   "pygments_lexer": "ipython3",
   "version": "3.11.0"
  }
 },
 "nbformat": 4,
 "nbformat_minor": 5
}
